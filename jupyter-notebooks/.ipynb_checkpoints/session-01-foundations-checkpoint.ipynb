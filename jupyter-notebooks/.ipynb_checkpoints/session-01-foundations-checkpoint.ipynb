{
 "cells": [
  {
   "cell_type": "markdown",
   "id": "fc17833a-11e2-44b3-b7b0-f1858ef1f3b2",
   "metadata": {},
   "source": [
    "# Session 1: Foundations of Data Analysis, Python Fundamentals, and Data Ethics\n",
    "\n",
    "**Module:** Data Insights and Visualization  \n",
    "**Level:** 7 | **Credits:** 10  \n",
    "**Learning Outcomes Addressed:** LO1, LO4  \n",
    "**Big Academy Saudi Arabia - Riyadh Campus** 🇸🇦\n",
    "\n",
    "---\n",
    "\n",
    "![Big Academy](https://img.shields.io/badge/Big%20Academy-Saudi%20Arabia-green?style=for-the-badge)\n",
    "![Level](https://img.shields.io/badge/Level-7%20Master's-blue?style=for-the-badge)\n",
    "![Credits](https://img.shields.io/badge/Credits-10-orange?style=for-the-badge)\n",
    "\n",
    "<!-- CELL BREAK -->"
   ]
  },
  {
   "cell_type": "markdown",
   "id": "e6969e81-f353-4f50-a0b4-4fde2fc51774",
   "metadata": {},
   "source": [
    "\n",
    "  "
   ]
  },
  {
   "cell_type": "markdown",
   "id": "abfee814-717c-42ea-86bb-af1a7ddbdade",
   "metadata": {},
   "source": [
    "## 📋 Session Overview\n",
    "\n",
    "Welcome to the **Data Insights and Visualization** module! In this first session, we'll establish the foundational knowledge and skills needed for effective data analysis and visualization. By the end of this session, you'll understand the current data landscape, have a working Python environment, and appreciate the critical importance of data ethics."
   ]
  },
  {
   "cell_type": "markdown",
   "id": "392dabfa-aac7-4499-b42e-46f21ba6e1c4",
   "metadata": {},
   "source": [
    "\n",
    "  "
   ]
  },
  {
   "cell_type": "markdown",
   "id": "9de5caa5-50e7-4719-b75d-3a67d120ba5c",
   "metadata": {},
   "source": [
    "-----------"
   ]
  },
  {
   "cell_type": "markdown",
   "id": "5ef2aaa4-847f-4151-86dc-90a78582800e",
   "metadata": {},
   "source": [
    "### Learning Objectives\n",
    "#### By the end of this session, you will be able to:\n",
    "\n",
    "- **Explain the role of data analytics in modern business decision-making**\n",
    "- **Set up and navigate a Python data analysis environment**\n",
    "- **Identify different data types and quality dimensions**\n",
    "- **Apply fundamental data ethics principles**\n",
    "- **Perform basic data exploration using Python**\n",
    "- **Load and inspect sample datasets to identify data quality issues**\n"
   ]
  },
  {
   "cell_type": "markdown",
   "id": "07abb758-3f57-4214-ab49-618fea41fe62",
   "metadata": {},
   "source": [
    "-----------"
   ]
  },
  {
   "cell_type": "markdown",
   "id": "3f53ab2f-0b7a-475d-bf3f-c48ca2cc3093",
   "metadata": {},
   "source": [
    "## 🌍 Part 1: The Data Revolution in Business"
   ]
  },
  {
   "cell_type": "markdown",
   "id": "63defc9c-a784-4c3f-b5b5-95bd4d1e4031",
   "metadata": {},
   "source": [
    "### 1.1 Course Introduction\n",
    "\n",
    "Welcome to **Data Insights and Visualization** - a transformative journey that will equip you with the skills to extract meaningful insights from complex datasets and communicate them effectively through compelling visualizations.\n",
    "\n",
    "In today's digital economy, organizations generate and collect vast amounts of data every second. The ability to analyze this data and extract actionable insights has become a critical competitive advantage.\n",
    "\n",
    "#### 🎯 This Module Combines:\n",
    "- Statistical analysis and programming techniques\n",
    "- Contemporary visualization tools (Python, Power BI)\n",
    "- Business intelligence and decision support\n",
    "- Data ethics and governance frameworks\n",
    "- Real-world industry applications"
   ]
  },
  {
   "cell_type": "markdown",
   "id": "8ecaf29b-2ce1-42a3-a8b8-f6f298f41bc6",
   "metadata": {},
   "source": [
    "-----------"
   ]
  },
  {
   "cell_type": "markdown",
   "id": "4a2798ec-2ff6-4eeb-a1d2-598d32005ac3",
   "metadata": {},
   "source": [
    "### 1.2 Current State of Data Analytics\n",
    "\n",
    "The global data sphere is expected to grow from 33 zettabytes in 2018 to 175 zettabytes by 2025. This explosion of data, often referred to as \"Big Data,\" is characterized by:\n",
    "\n",
    "- **Volume:** Massive amounts of data generated every second\n",
    "- **Velocity:** Real-time data processing requirements\n",
    "- **Variety:** Structured, semi-structured, and unstructured data formats\n",
    "- **Veracity:** Ensuring data quality and reliability\n",
    "- **Value:** Extracting actionable insights for business impact"
   ]
  },
  {
   "cell_type": "markdown",
   "id": "0a5a867c-2b12-4c21-aa43-68103fdc3868",
   "metadata": {},
   "source": [
    "- **🏭 REAL-WORLD APPLICATIONS:**\n",
    "  - **Retail Analytics:** Customer segmentation, inventory optimization, price optimization\n",
    "  - **Healthcare Analytics:** Predictive diagnostics, treatment personalization, patient outcomes\n",
    "  - **Financial Services:** Risk assessment, fraud detection, algorithmic trading\n",
    "  - **Manufacturing:** Predictive maintenance, quality control, supply chain optimization\n",
    "  - **Government & Public Sector:** Smart cities, policy analysis, resource allocation"
   ]
  },
  {
   "cell_type": "markdown",
   "id": "b3f84ba3-1dda-41f8-9531-e8354e974a6f",
   "metadata": {},
   "source": [
    "### 1.3 Career Opportunities in Data Visualization\n",
    "\n",
    "The field offers diverse career paths:\n",
    "- **Data Analyst:** Focus on descriptive analytics and reporting\n",
    "- **Business Intelligence Analyst:** Strategic insights and dashboard creation\n",
    "- **Data Scientist:** Advanced analytics and machine learning\n",
    "- **Data Visualization Specialist:** Design and communication expert\n",
    "- **Chief Data Officer:** Strategic data leadership\n",
    "\n",
    "---"
   ]
  },
  {
   "cell_type": "markdown",
   "id": "a4382c7b-a6df-4982-b980-7f96f6a71791",
   "metadata": {},
   "source": [
    "# Analytics: \n",
    "- **Descriptive** \n",
    "- **Predictive** \n",
    "- **Prescriptive** "
   ]
  },
  {
   "cell_type": "markdown",
   "id": "44ea8ee3-161d-4807-90a2-48371ef83d20",
   "metadata": {},
   "source": [
    "## 📊 Part 2: Understanding Data Types and Structures"
   ]
  },
  {
   "cell_type": "markdown",
   "id": "f9d727b9-a09c-48e5-8d9f-ef3b827e9cc8",
   "metadata": {},
   "source": [
    "### 2.1 Structured vs Unstructured Data"
   ]
  },
  {
   "cell_type": "markdown",
   "id": "8ff508dc-160c-4e4f-ae29-3dbe9a5215a3",
   "metadata": {},
   "source": [
    "#### 🔲 Structured Data\n",
    "- **Definition:** Data organized in predefined format (rows and columns)\n",
    "- **Examples:** Relational databases, CSV files, Excel spreadsheets, SQL tables\n",
    "- **Characteristics:** Easy to analyze, query, and visualize; well-defined schema\n",
    "- **Storage:** Typically represents 20% of organizational data"
   ]
  },
  {
   "cell_type": "markdown",
   "id": "2d736abd-2f8a-491d-a8ed-fa6700a94da3",
   "metadata": {},
   "source": [
    "#### 🔳 Semi-Structured Data\n",
    "- **Definition:** Data with some organizational properties but flexible schema\n",
    "- **Examples:** JSON, XML, NoSQL databases, log files, email\n",
    "- **Characteristics:** Self-describing, hierarchical, nested structures"
   ]
  },
  {
   "cell_type": "markdown",
   "id": "f78dd073-13e6-4fd1-be53-39e5f2485ee6",
   "metadata": {},
   "source": [
    "#### 🔲 Unstructured Data\n",
    "- **Definition:** Data without predefined structure or organization\n",
    "- **Examples:** Text documents, images, videos, social media posts, audio files\n",
    "- **Characteristics:** Requires preprocessing, complex analysis, rich insights\n",
    "- **Storage:** Typically represents 80% of organizational data"
   ]
  },
  {
   "cell_type": "markdown",
   "id": "76ea282a-ef97-441a-b226-45a203810a5c",
   "metadata": {},
   "source": [
    "### 2.2 Data Quality Dimensions\n",
    "\n",
    "High-quality data is essential for reliable analysis. The key dimensions include:\n",
    "\n",
    "1. **Accuracy:** Data correctly represents the real-world entity\n",
    "2. **Completeness:** All required data is present\n",
    "3. **Consistency:** Data is uniform across systems and time\n",
    "4. **Timeliness:** Data is up-to-date and available when needed\n",
    "5. **Validity:** Data conforms to defined formats and business rules\n",
    "6. **Uniqueness:** No unnecessary duplication of data"
   ]
  },
  {
   "cell_type": "code",
   "execution_count": 1,
   "id": "600dac6b-9796-4c51-aba0-4128d9eb2123",
   "metadata": {},
   "outputs": [
    {
     "name": "stdout",
     "output_type": "stream",
     "text": [
      "📊 DATA TYPE EXAMPLES:\n",
      "\n",
      "🔲 STRUCTURED DATA EXAMPLE:\n",
      "\n",
      "Customer Database Table:\n",
      "| CustomerID | Name        | Age | City   | PurchaseAmount |\n",
      "|------------|-------------|-----|--------|----------------|\n",
      "| 1001       | Ahmed Ali   | 25  | Riyadh | 450.00         |\n",
      "| 1002       | Sara Hassan | 32  | Jeddah | 320.50         |\n",
      "| 1003       | Omar Khalid | 28  | Dammam | 275.75         |\n",
      "\n"
     ]
    }
   ],
   "source": [
    "print(\"📊 DATA TYPE EXAMPLES:\\n\")\n",
    "\n",
    "# Structured Data Example\n",
    "print(\"🔲 STRUCTURED DATA EXAMPLE:\")\n",
    "structured_example = \"\"\"\n",
    "Customer Database Table:\n",
    "| CustomerID | Name        | Age | City   | PurchaseAmount |\n",
    "|------------|-------------|-----|--------|----------------|\n",
    "| 1001       | Ahmed Ali   | 25  | Riyadh | 450.00         |\n",
    "| 1002       | Sara Hassan | 32  | Jeddah | 320.50         |\n",
    "| 1003       | Omar Khalid | 28  | Dammam | 275.75         |\n",
    "\"\"\"\n",
    "print(structured_example)\n"
   ]
  },
  {
   "cell_type": "code",
   "execution_count": 2,
   "id": "737d9cc0-5010-48c1-801a-f9b0fe0faa66",
   "metadata": {},
   "outputs": [
    {
     "name": "stdout",
     "output_type": "stream",
     "text": [
      "🔳 SEMI-STRUCTURED DATA EXAMPLE (JSON):\n",
      "{\n",
      "  \"customer\": {\n",
      "    \"id\": 1001,\n",
      "    \"name\": \"Ahmed Ali\",\n",
      "    \"demographics\": {\n",
      "      \"age\": 25,\n",
      "      \"city\": \"Riyadh\",\n",
      "      \"preferences\": [\n",
      "        \"electronics\",\n",
      "        \"books\"\n",
      "      ]\n",
      "    },\n",
      "    \"purchases\": [\n",
      "      {\n",
      "        \"date\": \"2024-01-15\",\n",
      "        \"amount\": 450.0,\n",
      "        \"category\": \"electronics\"\n",
      "      },\n",
      "      {\n",
      "        \"date\": \"2024-01-20\",\n",
      "        \"amount\": 125.5,\n",
      "        \"category\": \"books\"\n",
      "      }\n",
      "    ]\n",
      "  }\n",
      "}\n"
     ]
    }
   ],
   "source": [
    "# Semi-Structured Data Example\n",
    "print(\"🔳 SEMI-STRUCTURED DATA EXAMPLE (JSON):\")\n",
    "import json\n",
    "semi_structured_example = {\n",
    "    \"customer\": {\n",
    "        \"id\": 1001,\n",
    "        \"name\": \"Ahmed Ali\",\n",
    "        \"demographics\": {\n",
    "            \"age\": 25,\n",
    "            \"city\": \"Riyadh\",\n",
    "            \"preferences\": [\"electronics\", \"books\"]\n",
    "        },\n",
    "        \"purchases\": [\n",
    "            {\"date\": \"2024-01-15\", \"amount\": 450.00, \"category\": \"electronics\"},\n",
    "            {\"date\": \"2024-01-20\", \"amount\": 125.50, \"category\": \"books\"}\n",
    "        ]\n",
    "    }\n",
    "}\n",
    "print(json.dumps(semi_structured_example, indent=2))\n"
   ]
  },
  {
   "cell_type": "code",
   "execution_count": 3,
   "id": "85ac1d6c-840c-4fc9-8359-6f01313c3fa5",
   "metadata": {},
   "outputs": [
    {
     "name": "stdout",
     "output_type": "stream",
     "text": [
      "\n",
      "🔲 UNSTRUCTURED DATA EXAMPLE:\n",
      "\n",
      "Customer Review Text:\n",
      "\"I absolutely loved this product! The quality exceeded my expectations \n",
      "and the delivery was super fast. Will definitely recommend to friends. \n",
      "⭐⭐⭐⭐⭐ Five stars!\"\n",
      "\n",
      "Social Media Post:\n",
      "\"Just bought the new laptop from @TechStore Riyadh! Amazing customer \n",
      "service 👏 #TechLife #Riyadh #CustomerExperience\"\n",
      "\n"
     ]
    }
   ],
   "source": [
    "# Unstructured Data Example\n",
    "print(\"\\n🔲 UNSTRUCTURED DATA EXAMPLE:\")\n",
    "unstructured_example = \"\"\"\n",
    "Customer Review Text:\n",
    "\"I absolutely loved this product! The quality exceeded my expectations \n",
    "and the delivery was super fast. Will definitely recommend to friends. \n",
    "⭐⭐⭐⭐⭐ Five stars!\"\n",
    "\n",
    "Social Media Post:\n",
    "\"Just bought the new laptop from @TechStore Riyadh! Amazing customer \n",
    "service 👏 #TechLife #Riyadh #CustomerExperience\"\n",
    "\"\"\"\n",
    "print(unstructured_example)\n"
   ]
  },
  {
   "cell_type": "markdown",
   "id": "be213a13-668e-4281-a539-d8d58335dac7",
   "metadata": {},
   "source": [
    "### 2.2 Data Quality Dimensions\n",
    "\n",
    "High-quality data is essential for reliable analysis. The key dimensions include:\n",
    "\n",
    "1. **Accuracy:** Data correctly represents the real-world entity\n",
    "2. **Completeness:** All required data is present\n",
    "3. **Consistency:** Data is uniform across systems and time\n",
    "4. **Timeliness:** Data is up-to-date and available when needed\n",
    "5. **Validity:** Data conforms to defined formats and business rules\n",
    "6. **Uniqueness:** No unnecessary duplication of data\n"
   ]
  },
  {
   "cell_type": "markdown",
   "id": "a44bbfe1-1053-4e40-a22c-799df44625d3",
   "metadata": {},
   "source": [
    "### 2.3 Common Data Formats\n",
    "\n",
    "- **CSV (Comma-Separated Values):** Simple, widely supported\n",
    "- **JSON (JavaScript Object Notation):** Web-friendly, hierarchical\n",
    "- **XML (eXtensible Markup Language):** Self-describing, verbose\n",
    "- **Parquet:** Columnar storage, optimized for analytics\n",
    "- **Database formats:** SQL Server, MySQL, PostgreSQL, MongoDB\n",
    "\n",
    "---"
   ]
  },
  {
   "cell_type": "markdown",
   "id": "9670d8a6-ced5-4cbe-afba-dcf45e8290da",
   "metadata": {},
   "source": [
    "## 🐍 Part 3: Python Environment Setup and Basics\n",
    "\n",
    "### 3.1 Setting Up Your Development Environment\n",
    "\n",
    "#### Required Software\n",
    "1. **Python 3.8+** - Programming language\n",
    "2. **Jupyter Notebook** - Interactive development environment\n",
    "3. **Essential Libraries:**\n",
    "   - `pandas` - Data manipulation and analysis\n",
    "   - `numpy` - Numerical computing\n",
    "   - `matplotlib` - Basic plotting\n",
    "   - `seaborn` - Statistical visualization\n",
    "\n",
    "#### Installation Steps\n",
    "\n",
    "```bash\n",
    "pip install jupyter pandas numpy matplotlib seaborn plotly openpyxl\n",
    "\n",
    "# Using conda (Anaconda distribution - recommended)\n",
    "conda install jupyter pandas numpy matplotlib seaborn plotly openpyxl\n",
    "\n",
    "# Or install Anaconda distribution (recommended for beginners)\n",
    "# Download from: https://www.anaconda.com/products/distribution\n",
    "```"
   ]
  },
  {
   "cell_type": "markdown",
   "id": "17730182-df04-422a-a3cd-3932b7ed34f8",
   "metadata": {},
   "source": [
    "#### Starting Jupyter Notebook\n",
    "\n",
    "```bash\n",
    "# Navigate to your project directory\n",
    "cd /path/to/your/project\n",
    "\n",
    "# Start Jupyter Notebook\n",
    "jupyter notebook\n",
    "\n",
    "# Or Jupyter Lab (more advanced interface)\n",
    "jupyter lab\n",
    "```"
   ]
  },
  {
   "cell_type": "code",
   "execution_count": 4,
   "id": "21f329bf-112b-49f1-abe3-f977252e8103",
   "metadata": {},
   "outputs": [
    {
     "name": "stdout",
     "output_type": "stream",
     "text": [
      "🖥️ SYSTEM INFORMATION:\n",
      "  • Python Version: 3.12.7 | packaged by Anaconda, Inc. | (main, Oct  4 2024, 13:17:27) [MSC v.1929 64 bit (AMD64)]\n",
      "  • Platform: Windows 11\n",
      "  • Architecture: 64bit\n",
      "  • Session Date: 2025-07-01 20:17:14\n",
      "\n",
      "📦 CHECKING ESSENTIAL LIBRARIES:\n",
      "  ✅ pandas          - Data manipulation and analysis\n",
      "  ✅ numpy           - Numerical computing and arrays\n",
      "  ✅ matplotlib      - Basic plotting and visualization\n",
      "  ✅ seaborn         - Statistical data visualization\n",
      "  ✅ jupyter         - Interactive development environment\n",
      "  ✅ openpyxl        - Excel file reading/writing\n",
      "\n",
      "✅ ALL ESSENTIAL LIBRARIES AVAILABLE!\n"
     ]
    }
   ],
   "source": [
    "# Environment Verification\n",
    "import sys\n",
    "import platform\n",
    "from datetime import datetime\n",
    "\n",
    "print(\"🖥️ SYSTEM INFORMATION:\")\n",
    "print(f\"  • Python Version: {sys.version}\")\n",
    "print(f\"  • Platform: {platform.system()} {platform.release()}\")\n",
    "print(f\"  • Architecture: {platform.architecture()[0]}\")\n",
    "print(f\"  • Session Date: {datetime.now().strftime('%Y-%m-%d %H:%M:%S')}\")\n",
    "\n",
    "# Essential Libraries Verification\n",
    "essential_libraries = {\n",
    "    'pandas': 'Data manipulation and analysis',\n",
    "    'numpy': 'Numerical computing and arrays', \n",
    "    'matplotlib': 'Basic plotting and visualization',\n",
    "    'seaborn': 'Statistical data visualization',\n",
    "    'jupyter': 'Interactive development environment',\n",
    "    'openpyxl': 'Excel file reading/writing'\n",
    "}\n",
    "\n",
    "print(f\"\\n📦 CHECKING ESSENTIAL LIBRARIES:\")\n",
    "missing_libraries = []\n",
    "available_libraries = []\n",
    "\n",
    "for lib, description in essential_libraries.items():\n",
    "    try:\n",
    "        __import__(lib)\n",
    "        print(f\"  ✅ {lib:<15} - {description}\")\n",
    "        available_libraries.append(lib)\n",
    "    except ImportError:\n",
    "        print(f\"  ❌ {lib:<15} - Missing: {description}\")\n",
    "        missing_libraries.append(lib)\n",
    "\n",
    "if missing_libraries:\n",
    "    print(f\"\\n⚠️ MISSING LIBRARIES:\")\n",
    "    print(f\"   Install with: pip install {' '.join(missing_libraries)}\")\n",
    "else:\n",
    "    print(f\"\\n✅ ALL ESSENTIAL LIBRARIES AVAILABLE!\")"
   ]
  },
  {
   "cell_type": "code",
   "execution_count": 5,
   "id": "0499ffc7-7fbb-4dda-8774-70273cc34191",
   "metadata": {},
   "outputs": [
    {
     "name": "stdout",
     "output_type": "stream",
     "text": [
      "🔧 IMPORTING ESSENTIAL LIBRARIES:\n",
      "  ✅ Core libraries imported successfully!\n",
      "  ✅ Visualization settings configured!\n",
      "\n",
      "📊 LIBRARY VERSIONS:\n",
      "  • pandas: 2.2.2\n",
      "  • numpy: 1.26.4\n",
      "  • matplotlib: 3.9.2\n",
      "  • seaborn: 0.13.2\n"
     ]
    }
   ],
   "source": [
    "print(\"🔧 IMPORTING ESSENTIAL LIBRARIES:\")\n",
    "\n",
    "try:\n",
    "    import pandas as pd\n",
    "    import numpy as np\n",
    "    import matplotlib.pyplot as plt\n",
    "    import seaborn as sns\n",
    "    from datetime import datetime, date\n",
    "    import warnings\n",
    "    warnings.filterwarnings('ignore')\n",
    "    \n",
    "    print(\"  ✅ Core libraries imported successfully!\")\n",
    "    \n",
    "    # Set plotting style\n",
    "    plt.style.use('default')\n",
    "    sns.set_palette(\"husl\")\n",
    "    plt.rcParams['figure.figsize'] = (10, 6)\n",
    "    \n",
    "    print(\"  ✅ Visualization settings configured!\")\n",
    "    \n",
    "    # Display versions\n",
    "    print(f\"\\n📊 LIBRARY VERSIONS:\")\n",
    "    print(f\"  • pandas: {pd.__version__}\")\n",
    "    print(f\"  • numpy: {np.__version__}\")\n",
    "    print(f\"  • matplotlib: {plt.matplotlib.__version__}\")\n",
    "    print(f\"  • seaborn: {sns.__version__}\")\n",
    "    \n",
    "except ImportError as e:\n",
    "    print(f\"  ❌ Import Error: {e}\")\n",
    "    print(\"  Please install missing libraries before continuing.\")\n"
   ]
  },
  {
   "cell_type": "markdown",
   "id": "45f649e7-f747-418b-9ec0-62d49b309c06",
   "metadata": {},
   "source": [
    "### 3.2 Python Fundamentals for Data Analysis\n",
    "\n",
    "#### Essential Data Structures"
   ]
  },
  {
   "cell_type": "markdown",
   "id": "35450852-c079-459d-bebe-3b554ad20e44",
   "metadata": {},
   "source": [
    "- Integers: Used to store whole numbers (e.g., 10, -5, 0). \n",
    "- Double : Used to store numbers with decimal points (e.g., 3.14, -2.5)\n",
    "- Char : Used to store single characters (e.g., 'a', 'Z', '7'). \n",
    "- Boolen: Used to store true or false values. "
   ]
  },
  {
   "cell_type": "code",
   "execution_count": 6,
   "id": "04819897-99f4-4fe5-ac3a-f25ac06110b1",
   "metadata": {},
   "outputs": [],
   "source": [
    "# Check with team if they need walk through of Conditions and Loops"
   ]
  },
  {
   "cell_type": "markdown",
   "id": "385cb6a6-7a38-4407-a62a-ad0cd4bff112",
   "metadata": {},
   "source": [
    "**1️⃣ LISTS - Ordered Collections**"
   ]
  },
  {
   "cell_type": "code",
   "execution_count": 7,
   "id": "205f814d-48b8-41f7-b41c-b8f1607e8dbd",
   "metadata": {},
   "outputs": [
    {
     "name": "stdout",
     "output_type": "stream",
     "text": [
      "   sales_data = [100, 150, 200, 175, 300, 120, 180]\n",
      "   product_names = ['Laptop', 'Mouse', 'Keyboard', 'Monitor']\n",
      "   • Length: 7\n",
      "   • Sum: 1225\n",
      "   • Average: 175.00\n",
      "   • Max: 300, Min: 100\n"
     ]
    }
   ],
   "source": [
    "sales_data = [100, 150, 200, 175, 300, 120, 180]\n",
    "product_names = ['Laptop', 'Mouse', 'Keyboard', 'Monitor']\n",
    "\n",
    "print(f\"   sales_data = {sales_data}\")\n",
    "print(f\"   product_names = {product_names}\")\n",
    "print(f\"   • Length: {len(sales_data)}\")\n",
    "print(f\"   • Sum: {sum(sales_data)}\")\n",
    "print(f\"   • Average: {sum(sales_data)/len(sales_data):.2f}\")\n",
    "print(f\"   • Max: {max(sales_data)}, Min: {min(sales_data)}\")"
   ]
  },
  {
   "cell_type": "markdown",
   "id": "9bd1cb1b-e021-4147-b37a-3504d3b7dc8f",
   "metadata": {},
   "source": [
    "**2️⃣ DICTIONARIES - Key-Value Pairs**"
   ]
  },
  {
   "cell_type": "code",
   "execution_count": 8,
   "id": "42bef23f-c749-43c4-accc-cb2d58f24c2d",
   "metadata": {},
   "outputs": [
    {
     "name": "stdout",
     "output_type": "stream",
     "text": [
      "   customer = {'customer_id': 'C001', 'name': 'Ahmed Al-Salem', 'age': 35, 'location': 'Riyadh', 'purchases': [100, 250, 75], 'registration_date': '2023-01-15'}\n",
      "   • Name: Ahmed Al-Salem\n",
      "   • Total purchases: 425\n",
      "   • Keys: ['customer_id', 'name', 'age', 'location', 'purchases', 'registration_date']\n"
     ]
    }
   ],
   "source": [
    "customer = {\n",
    "    'customer_id': 'C001',\n",
    "    'name': 'Ahmed Al-Salem', \n",
    "    'age': 35,\n",
    "    'location': 'Riyadh',\n",
    "    'purchases': [100, 250, 75],\n",
    "    'registration_date': '2023-01-15'\n",
    "}\n",
    "print(f\"   customer = {customer}\")\n",
    "print(f\"   • Name: {customer['name']}\")\n",
    "print(f\"   • Total purchases: {sum(customer['purchases'])}\")\n",
    "print(f\"   • Keys: {list(customer.keys())}\")"
   ]
  },
  {
   "cell_type": "markdown",
   "id": "d989906a-9267-4f99-898e-0d1e47c7c05a",
   "metadata": {},
   "source": [
    "**3️⃣ Tuple : ordered, immutable collections**"
   ]
  },
  {
   "cell_type": "code",
   "execution_count": 9,
   "id": "607a1b16-8f07-453d-8f52-6bb0f93c6111",
   "metadata": {},
   "outputs": [
    {
     "name": "stdout",
     "output_type": "stream",
     "text": [
      "   customer = ('C001', 'Ahmed Al-Salem', 35, 'Riyadh', (100, 250, 75), '2023-01-15')\n",
      "   • Name: Ahmed Al-Salem\n",
      "   • Total purchases: 425\n",
      "   • Number of fields: 6\n",
      "   • Purchases tuple: (100, 250, 75)\n",
      "   • Is purchases a tuple? Yes\n"
     ]
    }
   ],
   "source": [
    "# Define a customer tuple\n",
    "customer = (\n",
    "    'C001',                      # customer_id\n",
    "    'Ahmed Al-Salem',            # name\n",
    "    35,                          # age\n",
    "    'Riyadh',                    # location\n",
    "    (100, 250, 75),              # purchases (as a tuple)\n",
    "    '2023-01-15'                 # registration_date\n",
    ")\n",
    "\n",
    "print(f\"   customer = {customer}\")\n",
    "print(f\"   • Name: {customer[1]}\")\n",
    "print(f\"   • Total purchases: {sum(customer[4])}\")\n",
    "print(f\"   • Number of fields: {len(customer)}\")\n",
    "print(f\"   • Purchases tuple: {customer[4]}\")\n",
    "print(f\"   • Is purchases a tuple? {'Yes' if isinstance(customer[4], tuple) else 'No'}\")\n"
   ]
  },
  {
   "cell_type": "markdown",
   "id": "0cc34f07-c56d-4414-a593-adc9c1cc49d3",
   "metadata": {},
   "source": [
    "**4️⃣ NUMPY ARRAYS - Numerical Computing**"
   ]
  },
  {
   "cell_type": "code",
   "execution_count": 10,
   "id": "1028c57a-1aca-4a81-979e-84b501e5b14d",
   "metadata": {},
   "outputs": [],
   "source": [
    "# NumPy Arrays - Efficient numerical operations\n",
    "revenue = np.array([1000, 1200, 1100, 1400, 1300, 1150, 1250])\n",
    "costs = np.array([600, 700, 650, 800, 750, 680, 720])"
   ]
  },
  {
   "cell_type": "code",
   "execution_count": 11,
   "id": "c86f7774-371c-4b6b-a7d3-702885fea576",
   "metadata": {},
   "outputs": [
    {
     "name": "stdout",
     "output_type": "stream",
     "text": [
      "   revenue = [1000 1200 1100 1400 1300 1150 1250]\n",
      "   costs = [600 700 650 800 750 680 720]\n"
     ]
    }
   ],
   "source": [
    "print(f\"   revenue = {revenue}\")\n",
    "print(f\"   costs = {costs}\")"
   ]
  },
  {
   "cell_type": "code",
   "execution_count": 12,
   "id": "c604afab-7bf5-4c09-a637-acf8bcca4a0e",
   "metadata": {},
   "outputs": [],
   "source": [
    "# Mathematical operations\n",
    "profit = revenue - costs\n",
    "profit_margin = (profit / revenue) * 100"
   ]
  },
  {
   "cell_type": "code",
   "execution_count": 13,
   "id": "b9d499b0-fc90-48ce-966f-e93ce3bb6d1a",
   "metadata": {},
   "outputs": [
    {
     "name": "stdout",
     "output_type": "stream",
     "text": [
      "   • Profit: [400 500 450 600 550 470 530]\n",
      "   • Profit Margin %: [40.   41.67 40.91 42.86 42.31 40.87 42.4 ]\n",
      "   • Average Revenue: 1200.00\n",
      "   • Revenue Std Dev: 122.47\n"
     ]
    }
   ],
   "source": [
    "print(f\"   • Profit: {profit}\")\n",
    "print(f\"   • Profit Margin %: {profit_margin.round(2)}\")\n",
    "print(f\"   • Average Revenue: {revenue.mean():.2f}\")\n",
    "print(f\"   • Revenue Std Dev: {revenue.std():.2f}\")"
   ]
  },
  {
   "cell_type": "code",
   "execution_count": 14,
   "id": "de0adddd-6e0c-4a21-a2a7-d967d3ad397c",
   "metadata": {},
   "outputs": [
    {
     "name": "stdout",
     "output_type": "stream",
     "text": [
      "   • Revenue Growth Rate: [ 20.    -8.33  27.27  -7.14 -11.54   8.7 ]\n",
      "   • Cumulative Revenue: [1000 2200 3300 4700 6000 7150 8400]\n"
     ]
    }
   ],
   "source": [
    "# Advanced NumPy operations\n",
    "growth_rate = np.diff(revenue) / revenue[:-1] * 100\n",
    "print(f\"   • Revenue Growth Rate: {growth_rate.round(2)}\")\n",
    "print(f\"   • Cumulative Revenue: {np.cumsum(revenue)}\")"
   ]
  },
  {
   "cell_type": "markdown",
   "id": "90807b4c-d223-4c28-9317-25f8f62bd250",
   "metadata": {},
   "source": [
    "**5️⃣PANDAS DATAFRAMES - Structured Data**"
   ]
  },
  {
   "cell_type": "code",
   "execution_count": 15,
   "id": "98c1efa6-54d5-46e6-b99a-bd6c698ac998",
   "metadata": {},
   "outputs": [
    {
     "name": "stdout",
     "output_type": "stream",
     "text": [
      "Sample Sales DataFrame:\n",
      "  product_id    product_name     category  price  quantity_sold  region\n",
      "0       P001      Laptop Pro  Electronics   2500            120  Riyadh\n",
      "1       P002  Wireless Mouse  Electronics     45            300  Jeddah\n",
      "2       P003       USB Cable  Accessories     15            500  Dammam\n",
      "3       P004     Monitor 24\"  Electronics    800             80  Riyadh\n",
      "4       P005   Keyboard Mech  Electronics    150            200  Jeddah\n"
     ]
    }
   ],
   "source": [
    "# Create sample business dataset\n",
    "df = pd.DataFrame({\n",
    "    'product_id': ['P001', 'P002', 'P003', 'P004', 'P005'],\n",
    "    'product_name': ['Laptop Pro', 'Wireless Mouse', 'USB Cable', 'Monitor 24\"', 'Keyboard Mech'],\n",
    "    'category': ['Electronics', 'Electronics', 'Accessories', 'Electronics', 'Electronics'],\n",
    "    'price': [2500, 45, 15, 800, 150],\n",
    "    'quantity_sold': [120, 300, 500, 80, 200],\n",
    "    'region': ['Riyadh', 'Jeddah', 'Dammam', 'Riyadh', 'Jeddah']\n",
    "})\n",
    "\n",
    "print(\"Sample Sales DataFrame:\")\n",
    "print(df)"
   ]
  },
  {
   "cell_type": "code",
   "execution_count": 16,
   "id": "04212c26-f6d1-4b50-bdb0-47fefb09dfb9",
   "metadata": {},
   "outputs": [],
   "source": [
    "# Calculate additional metrics\n",
    "df['Sales'] = df['price'] * df['quantity_sold']"
   ]
  },
  {
   "cell_type": "markdown",
   "id": "4d04f433-867c-4b8c-9dd4-5603decb3fd9",
   "metadata": {},
   "source": [
    "#### Basic Operations and Functions"
   ]
  },
  {
   "cell_type": "code",
   "execution_count": 17,
   "id": "1ed2d22f-0969-4bf3-9567-70ddfb9b37a4",
   "metadata": {},
   "outputs": [
    {
     "data": {
      "text/plain": [
       "83000.0"
      ]
     },
     "execution_count": 17,
     "metadata": {},
     "output_type": "execute_result"
    }
   ],
   "source": [
    "# Descriptive statistics\n",
    "df['Sales'].mean()    # Average sales"
   ]
  },
  {
   "cell_type": "code",
   "execution_count": 18,
   "id": "65241d5a-4474-40ef-a029-dfd3fc079d1e",
   "metadata": {},
   "outputs": [
    {
     "data": {
      "text/plain": [
       "30000.0"
      ]
     },
     "execution_count": 18,
     "metadata": {},
     "output_type": "execute_result"
    }
   ],
   "source": [
    "df['Sales'].median()  # Median sales"
   ]
  },
  {
   "cell_type": "code",
   "execution_count": 19,
   "id": "1aa15893-1c9d-4baf-8ced-c517f42ff289",
   "metadata": {},
   "outputs": [
    {
     "data": {
      "text/plain": [
       "123277.63381895355"
      ]
     },
     "execution_count": 19,
     "metadata": {},
     "output_type": "execute_result"
    }
   ],
   "source": [
    "df['Sales'].std()     # Standard deviation"
   ]
  },
  {
   "cell_type": "code",
   "execution_count": 20,
   "id": "adb03862-947d-46ba-84e4-4f80549576d1",
   "metadata": {},
   "outputs": [
    {
     "data": {
      "text/html": [
       "<div>\n",
       "<style scoped>\n",
       "    .dataframe tbody tr th:only-of-type {\n",
       "        vertical-align: middle;\n",
       "    }\n",
       "\n",
       "    .dataframe tbody tr th {\n",
       "        vertical-align: top;\n",
       "    }\n",
       "\n",
       "    .dataframe thead th {\n",
       "        text-align: right;\n",
       "    }\n",
       "</style>\n",
       "<table border=\"1\" class=\"dataframe\">\n",
       "  <thead>\n",
       "    <tr style=\"text-align: right;\">\n",
       "      <th></th>\n",
       "      <th>product_id</th>\n",
       "      <th>product_name</th>\n",
       "      <th>category</th>\n",
       "      <th>price</th>\n",
       "      <th>quantity_sold</th>\n",
       "      <th>region</th>\n",
       "      <th>Sales</th>\n",
       "    </tr>\n",
       "  </thead>\n",
       "  <tbody>\n",
       "    <tr>\n",
       "      <th>0</th>\n",
       "      <td>P001</td>\n",
       "      <td>Laptop Pro</td>\n",
       "      <td>Electronics</td>\n",
       "      <td>2500</td>\n",
       "      <td>120</td>\n",
       "      <td>Riyadh</td>\n",
       "      <td>300000</td>\n",
       "    </tr>\n",
       "    <tr>\n",
       "      <th>1</th>\n",
       "      <td>P002</td>\n",
       "      <td>Wireless Mouse</td>\n",
       "      <td>Electronics</td>\n",
       "      <td>45</td>\n",
       "      <td>300</td>\n",
       "      <td>Jeddah</td>\n",
       "      <td>13500</td>\n",
       "    </tr>\n",
       "    <tr>\n",
       "      <th>2</th>\n",
       "      <td>P003</td>\n",
       "      <td>USB Cable</td>\n",
       "      <td>Accessories</td>\n",
       "      <td>15</td>\n",
       "      <td>500</td>\n",
       "      <td>Dammam</td>\n",
       "      <td>7500</td>\n",
       "    </tr>\n",
       "    <tr>\n",
       "      <th>3</th>\n",
       "      <td>P004</td>\n",
       "      <td>Monitor 24\"</td>\n",
       "      <td>Electronics</td>\n",
       "      <td>800</td>\n",
       "      <td>80</td>\n",
       "      <td>Riyadh</td>\n",
       "      <td>64000</td>\n",
       "    </tr>\n",
       "    <tr>\n",
       "      <th>4</th>\n",
       "      <td>P005</td>\n",
       "      <td>Keyboard Mech</td>\n",
       "      <td>Electronics</td>\n",
       "      <td>150</td>\n",
       "      <td>200</td>\n",
       "      <td>Jeddah</td>\n",
       "      <td>30000</td>\n",
       "    </tr>\n",
       "  </tbody>\n",
       "</table>\n",
       "</div>"
      ],
      "text/plain": [
       "  product_id    product_name     category  price  quantity_sold  region  \\\n",
       "0       P001      Laptop Pro  Electronics   2500            120  Riyadh   \n",
       "1       P002  Wireless Mouse  Electronics     45            300  Jeddah   \n",
       "2       P003       USB Cable  Accessories     15            500  Dammam   \n",
       "3       P004     Monitor 24\"  Electronics    800             80  Riyadh   \n",
       "4       P005   Keyboard Mech  Electronics    150            200  Jeddah   \n",
       "\n",
       "    Sales  \n",
       "0  300000  \n",
       "1   13500  \n",
       "2    7500  \n",
       "3   64000  \n",
       "4   30000  "
      ]
     },
     "execution_count": 20,
     "metadata": {},
     "output_type": "execute_result"
    }
   ],
   "source": [
    "# Data inspection\n",
    "df.head()        # First 5 rows"
   ]
  },
  {
   "cell_type": "code",
   "execution_count": 21,
   "id": "a0622b7c-c678-4282-ab9a-963ffc3f58a5",
   "metadata": {},
   "outputs": [
    {
     "name": "stdout",
     "output_type": "stream",
     "text": [
      "<class 'pandas.core.frame.DataFrame'>\n",
      "RangeIndex: 5 entries, 0 to 4\n",
      "Data columns (total 7 columns):\n",
      " #   Column         Non-Null Count  Dtype \n",
      "---  ------         --------------  ----- \n",
      " 0   product_id     5 non-null      object\n",
      " 1   product_name   5 non-null      object\n",
      " 2   category       5 non-null      object\n",
      " 3   price          5 non-null      int64 \n",
      " 4   quantity_sold  5 non-null      int64 \n",
      " 5   region         5 non-null      object\n",
      " 6   Sales          5 non-null      int64 \n",
      "dtypes: int64(3), object(4)\n",
      "memory usage: 412.0+ bytes\n"
     ]
    }
   ],
   "source": [
    "df.info()        # Data types and non-null counts"
   ]
  },
  {
   "cell_type": "code",
   "execution_count": 22,
   "id": "4b431404-6aab-4247-bfd9-a661db2c4c8d",
   "metadata": {},
   "outputs": [
    {
     "data": {
      "text/html": [
       "<div>\n",
       "<style scoped>\n",
       "    .dataframe tbody tr th:only-of-type {\n",
       "        vertical-align: middle;\n",
       "    }\n",
       "\n",
       "    .dataframe tbody tr th {\n",
       "        vertical-align: top;\n",
       "    }\n",
       "\n",
       "    .dataframe thead th {\n",
       "        text-align: right;\n",
       "    }\n",
       "</style>\n",
       "<table border=\"1\" class=\"dataframe\">\n",
       "  <thead>\n",
       "    <tr style=\"text-align: right;\">\n",
       "      <th></th>\n",
       "      <th>price</th>\n",
       "      <th>quantity_sold</th>\n",
       "      <th>Sales</th>\n",
       "    </tr>\n",
       "  </thead>\n",
       "  <tbody>\n",
       "    <tr>\n",
       "      <th>count</th>\n",
       "      <td>5.000000</td>\n",
       "      <td>5.000000</td>\n",
       "      <td>5.000000</td>\n",
       "    </tr>\n",
       "    <tr>\n",
       "      <th>mean</th>\n",
       "      <td>702.000000</td>\n",
       "      <td>240.000000</td>\n",
       "      <td>83000.000000</td>\n",
       "    </tr>\n",
       "    <tr>\n",
       "      <th>std</th>\n",
       "      <td>1054.837665</td>\n",
       "      <td>167.928556</td>\n",
       "      <td>123277.633819</td>\n",
       "    </tr>\n",
       "    <tr>\n",
       "      <th>min</th>\n",
       "      <td>15.000000</td>\n",
       "      <td>80.000000</td>\n",
       "      <td>7500.000000</td>\n",
       "    </tr>\n",
       "    <tr>\n",
       "      <th>25%</th>\n",
       "      <td>45.000000</td>\n",
       "      <td>120.000000</td>\n",
       "      <td>13500.000000</td>\n",
       "    </tr>\n",
       "    <tr>\n",
       "      <th>50%</th>\n",
       "      <td>150.000000</td>\n",
       "      <td>200.000000</td>\n",
       "      <td>30000.000000</td>\n",
       "    </tr>\n",
       "    <tr>\n",
       "      <th>75%</th>\n",
       "      <td>800.000000</td>\n",
       "      <td>300.000000</td>\n",
       "      <td>64000.000000</td>\n",
       "    </tr>\n",
       "    <tr>\n",
       "      <th>max</th>\n",
       "      <td>2500.000000</td>\n",
       "      <td>500.000000</td>\n",
       "      <td>300000.000000</td>\n",
       "    </tr>\n",
       "  </tbody>\n",
       "</table>\n",
       "</div>"
      ],
      "text/plain": [
       "             price  quantity_sold          Sales\n",
       "count     5.000000       5.000000       5.000000\n",
       "mean    702.000000     240.000000   83000.000000\n",
       "std    1054.837665     167.928556  123277.633819\n",
       "min      15.000000      80.000000    7500.000000\n",
       "25%      45.000000     120.000000   13500.000000\n",
       "50%     150.000000     200.000000   30000.000000\n",
       "75%     800.000000     300.000000   64000.000000\n",
       "max    2500.000000     500.000000  300000.000000"
      ]
     },
     "execution_count": 22,
     "metadata": {},
     "output_type": "execute_result"
    }
   ],
   "source": [
    "df.describe()    # Summary statistics"
   ]
  },
  {
   "cell_type": "code",
   "execution_count": 23,
   "id": "5a661a8a-5e85-43c1-bd3d-ac403a122187",
   "metadata": {},
   "outputs": [
    {
     "data": {
      "text/plain": [
       "(5, 7)"
      ]
     },
     "execution_count": 23,
     "metadata": {},
     "output_type": "execute_result"
    }
   ],
   "source": [
    "df.shape         # Number of rows and columns"
   ]
  },
  {
   "cell_type": "code",
   "execution_count": 24,
   "id": "94d9a822-b0a8-40cd-bbbb-46261dc4c6d8",
   "metadata": {},
   "outputs": [],
   "source": [
    "# Filtering and selection\n",
    "high_sales = df[df['Sales'] > 150]"
   ]
  },
  {
   "cell_type": "code",
   "execution_count": 25,
   "id": "5297427c-7784-4c26-a972-1ea012bd1791",
   "metadata": {},
   "outputs": [
    {
     "data": {
      "text/html": [
       "<div>\n",
       "<style scoped>\n",
       "    .dataframe tbody tr th:only-of-type {\n",
       "        vertical-align: middle;\n",
       "    }\n",
       "\n",
       "    .dataframe tbody tr th {\n",
       "        vertical-align: top;\n",
       "    }\n",
       "\n",
       "    .dataframe thead th {\n",
       "        text-align: right;\n",
       "    }\n",
       "</style>\n",
       "<table border=\"1\" class=\"dataframe\">\n",
       "  <thead>\n",
       "    <tr style=\"text-align: right;\">\n",
       "      <th></th>\n",
       "      <th>product_id</th>\n",
       "      <th>product_name</th>\n",
       "      <th>category</th>\n",
       "      <th>price</th>\n",
       "      <th>quantity_sold</th>\n",
       "      <th>region</th>\n",
       "      <th>Sales</th>\n",
       "    </tr>\n",
       "  </thead>\n",
       "  <tbody>\n",
       "  </tbody>\n",
       "</table>\n",
       "</div>"
      ],
      "text/plain": [
       "Empty DataFrame\n",
       "Columns: [product_id, product_name, category, price, quantity_sold, region, Sales]\n",
       "Index: []"
      ]
     },
     "execution_count": 25,
     "metadata": {},
     "output_type": "execute_result"
    }
   ],
   "source": [
    "north_sales = df[df['region'] == 'North']\n",
    "north_sales"
   ]
  },
  {
   "cell_type": "markdown",
   "id": "0a97bc08-56bd-4afc-a3d8-d5f1cccf1597",
   "metadata": {},
   "source": [
    "### 3.3 Reading and Writing Data Files"
   ]
  },
  {
   "cell_type": "code",
   "execution_count": 26,
   "id": "a4e30c43-8db8-4fdf-a880-89764a2be0ae",
   "metadata": {},
   "outputs": [
    {
     "name": "stdout",
     "output_type": "stream",
     "text": [
      "📁 CREATING SAMPLE DATASETS FOR FILE I/O DEMO:\n",
      "\n",
      "✅ Customers dataset created: (20, 6)\n",
      "✅ Transactions dataset created: (50, 5)\n"
     ]
    }
   ],
   "source": [
    "print(\"📁 CREATING SAMPLE DATASETS FOR FILE I/O DEMO:\\n\")\n",
    "\n",
    "# Customer dataset\n",
    "np.random.seed(42)  # For reproducible results\n",
    "customers_df = pd.DataFrame({\n",
    "    'customer_id': range(1001, 1021),\n",
    "    'name': [f'Customer {i}' for i in range(1, 21)],\n",
    "    'email': [f'customer{i}@email.com' for i in range(1, 21)],\n",
    "    'age': np.random.randint(18, 70, 20),\n",
    "    'city': np.random.choice(['Riyadh', 'Jeddah', 'Dammam', 'Mecca'], 20),\n",
    "    'registration_date': pd.date_range('2023-01-01', periods=20, freq='W')\n",
    "})\n",
    "\n",
    "# Sales transactions dataset  \n",
    "transactions_df = pd.DataFrame({\n",
    "    'transaction_id': range(5001, 5051),\n",
    "    'customer_id': np.random.choice(range(1001, 1021), 50),\n",
    "    'product_category': np.random.choice(['Electronics', 'Clothing', 'Books', 'Home'], 50),\n",
    "    'amount': np.random.gamma(2, 50, 50).round(2),\n",
    "    'transaction_date': pd.date_range('2023-01-01', periods=50, freq='D')[:50]\n",
    "})\n",
    "\n",
    "print(f\"✅ Customers dataset created: {customers_df.shape}\")\n",
    "print(f\"✅ Transactions dataset created: {transactions_df.shape}\")\n"
   ]
  },
  {
   "cell_type": "code",
   "execution_count": 27,
   "id": "8fe299ac-8193-469f-955b-48a2a9661390",
   "metadata": {},
   "outputs": [
    {
     "name": "stdout",
     "output_type": "stream",
     "text": [
      "\n",
      "📊 Sample Customer Data:\n",
      "   customer_id        name                email  age    city registration_date\n",
      "0         1001  Customer 1  customer1@email.com   56   Mecca        2023-01-01\n",
      "1         1002  Customer 2  customer2@email.com   69  Jeddah        2023-01-08\n",
      "2         1003  Customer 3  customer3@email.com   46  Jeddah        2023-01-15\n",
      "3         1004  Customer 4  customer4@email.com   32  Jeddah        2023-01-22\n",
      "4         1005  Customer 5  customer5@email.com   60   Mecca        2023-01-29\n",
      "\n",
      "📊 Sample Transaction Data:\n",
      "   transaction_id  customer_id product_category  amount transaction_date\n",
      "0            5001         1016      Electronics  149.67       2023-01-01\n",
      "1            5002         1015             Home  103.98       2023-01-02\n",
      "2            5003         1015         Clothing  163.24       2023-01-03\n",
      "3            5004         1019      Electronics  145.96       2023-01-04\n",
      "4            5005         1012             Home  545.57       2023-01-05\n"
     ]
    }
   ],
   "source": [
    "# Display sample data\n",
    "print(\"\\n📊 Sample Customer Data:\")\n",
    "print(customers_df.head())\n",
    "\n",
    "print(\"\\n📊 Sample Transaction Data:\")\n",
    "print(transactions_df.head())"
   ]
  },
  {
   "cell_type": "code",
   "execution_count": 28,
   "id": "f1edb9fe-ec0f-4b00-b8c8-36cc86118d56",
   "metadata": {},
   "outputs": [
    {
     "name": "stdout",
     "output_type": "stream",
     "text": [
      "📁 FILE INPUT/OUTPUT OPERATIONS:\n",
      "\n",
      "📄 CSV (Comma-Separated Values):\n",
      "   ✅ CSV files created successfully\n",
      "   ✅ CSV read successfully: (20, 6)\n"
     ]
    }
   ],
   "source": [
    "# File I/O Operations\n",
    "print(\"📁 FILE INPUT/OUTPUT OPERATIONS:\\n\")\n",
    "\n",
    "# CSV Operations\n",
    "print(\"📄 CSV (Comma-Separated Values):\")\n",
    "try:\n",
    "    # Write to CSV\n",
    "    customers_df.to_csv('sample_customers.csv', index=False)\n",
    "    transactions_df.to_csv('sample_transactions.csv', index=False)\n",
    "    print(\"   ✅ CSV files created successfully\")\n",
    "    \n",
    "    # Read from CSV\n",
    "    csv_data = pd.read_csv('sample_customers.csv')\n",
    "    print(f\"   ✅ CSV read successfully: {csv_data.shape}\")\n",
    "    \n",
    "except Exception as e:\n",
    "    print(f\"   ❌ CSV Error: {e}\")"
   ]
  },
  {
   "cell_type": "code",
   "execution_count": 29,
   "id": "645a8579-5def-40e5-b34a-e5d9f8acd845",
   "metadata": {},
   "outputs": [
    {
     "name": "stdout",
     "output_type": "stream",
     "text": [
      "\n",
      "📊 EXCEL FILES:\n",
      "   ✅ Excel file with multiple sheets created\n",
      "   ✅ Excel sheet read successfully: (20, 6)\n"
     ]
    }
   ],
   "source": [
    "# Excel Operations\n",
    "print(\"\\n📊 EXCEL FILES:\")\n",
    "try:\n",
    "    # Write to Excel with multiple sheets\n",
    "    with pd.ExcelWriter('sample_business_data.xlsx', engine='openpyxl') as writer:\n",
    "        customers_df.to_excel(writer, sheet_name='Customers', index=False)\n",
    "        transactions_df.to_excel(writer, sheet_name='Transactions', index=False)\n",
    "        \n",
    "        # Summary sheet\n",
    "        summary_df = pd.DataFrame({\n",
    "            'Metric': ['Total Customers', 'Total Transactions', 'Average Transaction', 'Date Range'],\n",
    "            'Value': [len(customers_df), len(transactions_df), \n",
    "                     f\"${transactions_df['amount'].mean():.2f}\",\n",
    "                     f\"{transactions_df['transaction_date'].min()} to {transactions_df['transaction_date'].max()}\"]\n",
    "        })\n",
    "        summary_df.to_excel(writer, sheet_name='Summary', index=False)\n",
    "    \n",
    "    print(\"   ✅ Excel file with multiple sheets created\")\n",
    "    \n",
    "    # Read specific sheet\n",
    "    excel_customers = pd.read_excel('sample_business_data.xlsx', sheet_name='Customers')\n",
    "    print(f\"   ✅ Excel sheet read successfully: {excel_customers.shape}\")\n",
    "    \n",
    "except Exception as e:\n",
    "    print(f\"   ❌ Excel Error: {e}\")"
   ]
  },
  {
   "cell_type": "code",
   "execution_count": 30,
   "id": "c96d9ec2-2dd9-48bd-bc63-e873be5a5016",
   "metadata": {},
   "outputs": [
    {
     "name": "stdout",
     "output_type": "stream",
     "text": [
      "\n",
      "🔗 JSON (JavaScript Object Notation):\n",
      "   ✅ JSON file created successfully\n",
      "   ✅ JSON read successfully: (20, 6)\n"
     ]
    }
   ],
   "source": [
    "# JSON Operations\n",
    "print(\"\\n🔗 JSON (JavaScript Object Notation):\")\n",
    "try:\n",
    "    # Write to JSON\n",
    "    customers_df.to_json('sample_customers.json', orient='records', indent=2)\n",
    "    print(\"   ✅ JSON file created successfully\")\n",
    "    \n",
    "    # Read from JSON\n",
    "    json_data = pd.read_json('sample_customers.json')\n",
    "    print(f\"   ✅ JSON read successfully: {json_data.shape}\")\n",
    "    \n",
    "except Exception as e:\n",
    "    print(f\"   ❌ JSON Error: {e}\")"
   ]
  },
  {
   "cell_type": "code",
   "execution_count": 31,
   "id": "36677259-0678-43d1-a5f0-0f487db81c45",
   "metadata": {},
   "outputs": [],
   "source": [
    "# Database connections (example)\n",
    "# import sqlite3\n",
    "# conn = sqlite3.connect('company_database.db')\n",
    "# df_db = pd.read_sql_query('SELECT * FROM sales', conn)"
   ]
  },
  {
   "cell_type": "markdown",
   "id": "c346eb0c-4a04-437e-91f5-0e9dba07a39b",
   "metadata": {},
   "source": [
    "## 🛡️ Part 4: Data Ethics and Governance"
   ]
  },
  {
   "cell_type": "markdown",
   "id": "cb4b10d4-aea5-4c7a-9a1c-e2ffd91ad28a",
   "metadata": {},
   "source": [
    "### 4.1 Fundamental Ethical Principles\n",
    "\n",
    "Data ethics is not just about compliance—it's about building trust and ensuring responsible use of data. The core principles include:"
   ]
  },
  {
   "cell_type": "markdown",
   "id": "c6629dd5-3f34-4268-b84e-12f5af9be63f",
   "metadata": {},
   "source": [
    "#### Privacy\n",
    "- **Principle:** Individuals have the right to control their personal information\n",
    "- **Application:** Anonymization, pseudonymization, data minimization"
   ]
  },
  {
   "cell_type": "markdown",
   "id": "f8d53006-da1d-441a-bfce-676344c09a45",
   "metadata": {},
   "source": [
    "#### Transparency\n",
    "- **Principle:** Be open about data collection, use, and decision-making processes\n",
    "- **Application:** Clear data collection notices, algorithm explainability"
   ]
  },
  {
   "cell_type": "markdown",
   "id": "c6bec7c4-bb32-433c-9589-bd8631de1d7d",
   "metadata": {},
   "source": [
    "#### Fairness and Non-discrimination\n",
    "- **Principle:** Avoid bias and ensure equitable treatment\n",
    "- **Application:** Regular bias audits, diverse training data"
   ]
  },
  {
   "cell_type": "markdown",
   "id": "4a80a018-8213-47a3-878e-499ef69eb56f",
   "metadata": {},
   "source": [
    "#### Accountability\n",
    "- **Principle:** Take responsibility for data practices and their consequences\n",
    "- **Application:** Data governance frameworks, audit trails"
   ]
  },
  {
   "cell_type": "markdown",
   "id": "ca527df5-5a0a-409b-a08b-dd57f1aee4fe",
   "metadata": {},
   "source": [
    "**SAUDI DATA PROTECTION CONTEXT**\n",
    "\n",
    "- Saudi Data and AI Authority (SDAIA) guidelines\n",
    "- Personal Data Protection Law (PDPL) compliance\n",
    "- Vision 2030 digital transformation objectives\n",
    "- Cultural sensitivity in data collection and analysis\n",
    "- Cross-border data transfer regulations"
   ]
  },
  {
   "cell_type": "markdown",
   "id": "e8a5a63f-29d1-47a4-813e-721440b46a2b",
   "metadata": {},
   "source": [
    "### 4.2 GDPR and Legal Compliance\n",
    "\n",
    "The General Data Protection Regulation (GDPR) sets the global standard for data protection and influences regulations worldwide, including in Saudi Arabia.\n",
    "\n",
    "#### Key Requirements\n",
    "- **Lawful basis** Six legal bases: consent, contract, legal obligation, vital interests, public task, legitimate interests\n",
    "- **Data subject rights** Access, rectification, erasure, restriction, portability, objection\n",
    "- **Privacy by design** Data protection built into systems from the start\n",
    "- **Data Protection Impact Assessments** for high-risk processing\n",
    "- **Breach Notification** :72-hour notification requirement to authorities\n",
    "- **Data Protection Officer**: \"Required for certain organizations\n"
   ]
  },
  {
   "cell_type": "markdown",
   "id": "f6286d2c-e835-4875-8555-6ef5921e24d7",
   "metadata": {},
   "source": [
    "**📋 GDPR COMPLIANCE CHECKLIST**\n",
    "\n",
    "- ✅ Legal basis for processing documented\n",
    "- ✅ Data collection purpose clearly defined \n",
    "- ✅ Data retention period established\n",
    "- ✅ Data subject rights procedures implemented\n",
    "- ✅ Consent mechanisms in place\n",
    "- ✅ Data breach response plan prepared\n",
    "- ✅ Privacy policy updated and accessible\n",
    "- ✅ Staff training on data protection completed"
   ]
  },
  {
   "cell_type": "markdown",
   "id": "d686f4d8-9761-4a77-80c8-5be2b72f8af6",
   "metadata": {},
   "source": [
    "#### Practical Data Anonymization Example"
   ]
  },
  {
   "cell_type": "code",
   "execution_count": 32,
   "id": "f170071e-f38d-4bcf-80ea-4a2b7221d581",
   "metadata": {},
   "outputs": [],
   "source": [
    "def anonymize_customer_data(df):\n",
    "    \"\"\"\n",
    "    Anonymize personal data while preserving analytical value\n",
    "    \"\"\"\n",
    "    anonymized_df = df.copy()\n",
    "    \n",
    "    # Remove direct identifiers\n",
    "    if 'name' in anonymized_df.columns:\n",
    "        anonymized_df = anonymized_df.drop(['name'], axis=1)\n",
    "    if 'email' in anonymized_df.columns:\n",
    "        anonymized_df = anonymized_df.drop(['email'], axis=1)\n",
    "    \n",
    "    # Generalize age into ranges\n",
    "    if 'age' in anonymized_df.columns:\n",
    "        anonymized_df['age_group'] = pd.cut(anonymized_df['age'], \n",
    "                                          bins=[0, 25, 35, 50, 65, 100], \n",
    "                                          labels=['18-25', '26-35', '36-50', '51-65', '65+'])\n",
    "        anonymized_df = anonymized_df.drop(['age'], axis=1)\n",
    "    \n",
    "    # Generalize location data\n",
    "    if 'city' in anonymized_df.columns:\n",
    "        city_mapping = {'Riyadh': 'Central', 'Jeddah': 'Western', \n",
    "                       'Dammam': 'Eastern', 'Mecca': 'Western'}\n",
    "        anonymized_df['region'] = anonymized_df['city'].map(city_mapping)\n",
    "        anonymized_df = anonymized_df.drop(['city'], axis=1)\n",
    "    \n",
    "    return anonymized_df"
   ]
  },
  {
   "cell_type": "code",
   "execution_count": 33,
   "id": "f2125163-f971-4485-83b7-7dee0aec75c1",
   "metadata": {},
   "outputs": [
    {
     "name": "stdout",
     "output_type": "stream",
     "text": [
      "Original customer data:\n",
      "Shape: (20, 6)\n",
      "Columns: ['customer_id', 'name', 'email', 'age', 'city', 'registration_date']\n",
      "   customer_id        name                email  age    city registration_date\n",
      "0         1001  Customer 1  customer1@email.com   56   Mecca        2023-01-01\n",
      "1         1002  Customer 2  customer2@email.com   69  Jeddah        2023-01-08\n",
      "2         1003  Customer 3  customer3@email.com   46  Jeddah        2023-01-15\n",
      "\n",
      "Anonymized customer data:\n",
      "Shape: (20, 4)\n",
      "Columns: ['customer_id', 'registration_date', 'age_group', 'region']\n",
      "   customer_id registration_date age_group   region\n",
      "0         1001        2023-01-01     51-65  Western\n",
      "1         1002        2023-01-08       65+  Western\n",
      "2         1003        2023-01-15     36-50  Western\n",
      "\n",
      "✅ Personal identifiers removed, analytical value preserved\n"
     ]
    }
   ],
   "source": [
    "# Demonstrate anonymization on sample data\n",
    "print(\"Original customer data:\")\n",
    "print(f\"Shape: {customers_df.shape}\")\n",
    "print(f\"Columns: {list(customers_df.columns)}\")\n",
    "print(customers_df.head(3))\n",
    "\n",
    "# Apply anonymization\n",
    "anonymized_customers  =anonymize_customer_data(customers_df)\n",
    "print(\"\\nAnonymized customer data:\")\n",
    "print(f\"Shape: {anonymized_customers.shape}\")\n",
    "print(f\"Columns: {list(anonymized_customers.columns)}\")\n",
    "print(anonymized_customers.head(3))\n",
    "\n",
    "print(\"\\n✅ Personal identifiers removed, analytical value preserved\")"
   ]
  },
  {
   "cell_type": "markdown",
   "id": "4fc571bd-3ffb-4c7a-b863-cf857427ffac",
   "metadata": {},
   "source": [
    "### 4.3 Bias and Fairness in Data Representation"
   ]
  },
  {
   "cell_type": "markdown",
   "id": "8b2b94f1-3df7-495f-83a8-10b40f54f456",
   "metadata": {},
   "source": [
    "**🎯 TYPES OF BIAS IN DATA ANALYSIS:**\n",
    "\n",
    "   - **Historical Bias**: Existing inequalities reflected in historical data\n",
    "   - **Representation Bias**: Certain groups underrepresented in datasets\n",
    "   - **Measurement Bias**: Systematic errors in data collection methods\n",
    "   - **Evaluation Bias**: Using inappropriate benchmarks or metrics\n",
    "   - **Aggregation Bias**: Assuming one model fits all demographic groups\n",
    "   - **Confirmation Bias**: Looking for data that confirms preconceptions"
   ]
  },
  {
   "cell_type": "markdown",
   "id": "68e75105-b4e2-4880-b835-6bb81f0185ac",
   "metadata": {},
   "source": [
    "**🛠️ BIAS MITIGATION STRATEGIES:**\n",
    "- Diverse data collection sources\n",
    "- Regular bias audits and monitoring\n",
    "- Inclusive team composition\n",
    "- Stakeholder feedback incorporation\n",
    "- Algorithm fairness testing\n",
    "- Documentation of decision processes"
   ]
  },
  {
   "cell_type": "markdown",
   "id": "f32b4ec8-260f-40ac-841d-0ae8e780e497",
   "metadata": {},
   "source": [
    "#### Detecting and Mitigating Bias"
   ]
  },
  {
   "cell_type": "code",
   "execution_count": 34,
   "id": "f308a48e-ca96-4aa6-8bcf-d867a7db3ecb",
   "metadata": {},
   "outputs": [
    {
     "name": "stdout",
     "output_type": "stream",
     "text": [
      "🔍 BIAS DETECTION EXAMPLE:\n",
      "\n",
      "📊 Distribution for 'city':\n",
      "   Mecca: 30.0%\n",
      "   Jeddah: 30.0%\n",
      "   Riyadh: 25.0%\n",
      "   Dammam: 15.0%\n",
      "   ✅ No severely underrepresented groups detected\n",
      "\n",
      "--------------------------------------------------\n",
      "📊 Distribution for 'age_group':\n",
      "   36-50: 40.0%\n",
      "   51-65: 25.0%\n",
      "   18-25: 15.0%\n",
      "   26-35: 15.0%\n",
      "   65+: 5.0%\n",
      "   ⚠️ Underrepresented groups: ['65+']\n",
      "   💡 Consider collecting more data for these groups\n"
     ]
    }
   ],
   "source": [
    "def check_data_representation(df, protected_attribute):\n",
    "    \"\"\"\n",
    "    Check for representation bias in dataset\n",
    "    \"\"\"\n",
    "    if protected_attribute not in df.columns:\n",
    "        print(f\"   ⚠️ Column '{protected_attribute}' not found in dataset\")\n",
    "        return\n",
    "    \n",
    "    distribution = df[protected_attribute].value_counts(normalize=True)\n",
    "    print(f\"📊 Distribution for '{protected_attribute}':\")\n",
    "    for category, percentage in distribution.items():\n",
    "        print(f\"   {category}: {percentage:.1%}\")\n",
    "    \n",
    "    # Flag underrepresented groups (less than 10%)\n",
    "    underrepresented = distribution[distribution < 0.1]\n",
    "    if len(underrepresented) > 0:\n",
    "        print(f\"   ⚠️ Underrepresented groups: {list(underrepresented.index)}\")\n",
    "        print(f\"   💡 Consider collecting more data for these groups\")\n",
    "    else:\n",
    "        print(f\"   ✅ No severely underrepresented groups detected\")\n",
    "    \n",
    "    return distribution\n",
    "\n",
    "# Demonstrate bias checking on customer data\n",
    "print(\"🔍 BIAS DETECTION EXAMPLE:\\n\")\n",
    "city_distribution = check_data_representation(customers_df, 'city')\n",
    "\n",
    "print(\"\\n\" + \"-\"*50)\n",
    "age_group_distribution = check_data_representation(anonymized_customers, 'age_group')\n"
   ]
  },
  {
   "cell_type": "markdown",
   "id": "c53883be-10b0-478a-9db9-8ee56dbf300d",
   "metadata": {},
   "source": [
    "# 📊 Basic Statistics "
   ]
  },
  {
   "cell_type": "markdown",
   "id": "b93ce184-3033-48ca-8b57-57db1f962081",
   "metadata": {},
   "source": [
    "## 📌 1️⃣ Measures of Central Tendency\n",
    "\n",
    "### **Mean (Average)**\n",
    "\n",
    "The sum of all values divided by the number of values.\n",
    "\n",
    "📖 **Formula:**\n",
    "\n",
    "$$\n",
    "\\text{Mean} = \\frac{\\sum x}{n}\n",
    "$$"
   ]
  },
  {
   "cell_type": "code",
   "execution_count": 57,
   "id": "39b80fe4-6f56-469e-b1e8-eca712915840",
   "metadata": {},
   "outputs": [
    {
     "name": "stdout",
     "output_type": "stream",
     "text": [
      "Mean: 26.11111111111111\n"
     ]
    }
   ],
   "source": [
    "data = [10, 12, 14, 15, 18, 20, 22, 24, 100]  \n",
    "mean = sum(data) / len(data)\n",
    "print(\"Mean:\", mean)"
   ]
  },
  {
   "cell_type": "markdown",
   "id": "d468919c-f1b2-40b1-8bb3-3d3f98e2fcf9",
   "metadata": {},
   "source": [
    "### **Median**\n",
    "\n",
    "The middle value when the data is sorted."
   ]
  },
  {
   "cell_type": "code",
   "execution_count": 58,
   "id": "96cfd2f2-f9ad-4a8b-8609-5448e9871c66",
   "metadata": {},
   "outputs": [
    {
     "name": "stdout",
     "output_type": "stream",
     "text": [
      "Median: 18\n"
     ]
    }
   ],
   "source": [
    "data.sort()\n",
    "n = len(data)\n",
    "if n % 2 == 0:\n",
    "    median = (data[n//2 - 1] + data[n//2]) / 2\n",
    "else:\n",
    "    median = data[n//2]\n",
    "print(\"Median:\", median)"
   ]
  },
  {
   "cell_type": "code",
   "execution_count": 59,
   "id": "d754a620-2d11-47ff-a361-300260e5398e",
   "metadata": {},
   "outputs": [
    {
     "name": "stdout",
     "output_type": "stream",
     "text": [
      "Median: 18\n"
     ]
    }
   ],
   "source": [
    "# Or using `statistics` module:\n",
    "\n",
    "import statistics as stats\n",
    "median = stats.median(data)\n",
    "print(\"Median:\", median)"
   ]
  },
  {
   "cell_type": "markdown",
   "id": "e6203e01-3d8b-4a0c-9258-955f154b56d2",
   "metadata": {},
   "source": [
    "### **Mode**\n",
    "\n",
    "The value that appears most often."
   ]
  },
  {
   "cell_type": "code",
   "execution_count": 60,
   "id": "3f40ac19-6830-4d36-b9e5-698ccef9d03c",
   "metadata": {},
   "outputs": [
    {
     "name": "stdout",
     "output_type": "stream",
     "text": [
      "Mode: 10\n"
     ]
    }
   ],
   "source": [
    "import statistics as stats\n",
    "mode = stats.mode(data)\n",
    "print(\"Mode:\", mode)"
   ]
  },
  {
   "cell_type": "markdown",
   "id": "99b39b74-c5a1-49c7-b323-2c906e8ca2b5",
   "metadata": {},
   "source": [
    "---"
   ]
  },
  {
   "cell_type": "markdown",
   "id": "77d19f8a-6659-4645-9f6f-3a4b0d7b9e86",
   "metadata": {},
   "source": [
    "## 📌 2️⃣ Measures of Spread\n",
    "\n",
    "### **Interquartile Range (IQR)**\n",
    "\n",
    "The spread of the middle 50% of data.\n",
    "\n",
    "📖 **Formula:**\n",
    "\n",
    "$$\n",
    "\\text{IQR} = Q3 - Q1\n",
    "$$"
   ]
  },
  {
   "cell_type": "code",
   "execution_count": 61,
   "id": "7024a0e1-7d18-481e-b410-6e8e55fb1ccc",
   "metadata": {},
   "outputs": [
    {
     "name": "stdout",
     "output_type": "stream",
     "text": [
      "Q1: 14.0\n",
      "Q3: 22.0\n",
      "IQR: 8.0\n"
     ]
    }
   ],
   "source": [
    "import numpy as np\n",
    "Q1 = np.percentile(data, 25)\n",
    "Q3 = np.percentile(data, 75)\n",
    "IQR = Q3 - Q1\n",
    "\n",
    "print(\"Q1:\", Q1)\n",
    "print(\"Q3:\", Q3)\n",
    "print(\"IQR:\", IQR)"
   ]
  },
  {
   "cell_type": "markdown",
   "id": "7cee59e5-4d93-4eac-a069-5d42b175117a",
   "metadata": {},
   "source": [
    "## 📌 3️⃣ Skewness\n",
    "\n",
    "Describes the asymmetry of data distribution.\n",
    "\n",
    "* **Positive Skew (Right-skewed)**: Tail to the right.\n",
    "* **Negative Skew (Left-skewed)**: Tail to the left.\n",
    "* **Symmetrical**: Mean = Median = Mode."
   ]
  },
  {
   "attachments": {
    "2f55d824-2ac8-470d-a0d9-9da034966b11.png": {
     "image/png": "[encoded data removed]"
    }
   },
   "cell_type": "markdown",
   "id": "e9a7cb76-c2cd-4f34-a963-6ae8387e789a",
   "metadata": {},
   "source": [
    "![image.png](attachment:2f55d824-2ac8-470d-a0d9-9da034966b11.png)"
   ]
  },
  {
   "cell_type": "code",
   "execution_count": 64,
   "id": "b8678d60-ff36-4dc1-8a9d-a79f58e52166",
   "metadata": {},
   "outputs": [
    {
     "name": "stdout",
     "output_type": "stream",
     "text": [
      "Manual Skewness: 2.845110531324272\n"
     ]
    }
   ],
   "source": [
    "n = len(data)\n",
    "mean = np.mean(data)\n",
    "std_dev = np.std(data, ddof=1)  # sample std dev\n",
    "\n",
    "skewness = (n / ((n-1)*(n-2))) * sum(((x - mean) / std_dev) ** 3 for x in data)\n",
    "print(\"Manual Skewness:\", skewness)\n"
   ]
  },
  {
   "cell_type": "code",
   "execution_count": 66,
   "id": "8b8d5018-6648-40ec-b0d6-847442c2e206",
   "metadata": {
    "jp-MarkdownHeadingCollapsed": true
   },
   "outputs": [
    {
     "name": "stdout",
     "output_type": "stream",
     "text": [
      "Skewness: 2.3470964415787625\n"
     ]
    }
   ],
   "source": [
    "from scipy.stats import skew\n",
    "skewness = skew(data)\n",
    "print(\"Skewness:\", skewness)"
   ]
  },
  {
   "cell_type": "markdown",
   "id": "0579ead4-8ae9-4be3-a3e1-07f37e6a966d",
   "metadata": {},
   "source": [
    "## 📌 4️⃣ Detecting Outliers using IQR\n",
    "\n",
    "Outliers typically lie outside:\n",
    "\n",
    "$$\n",
    "< Q1 - 1.5 \\times IQR \\text{  or  } > Q3 + 1.5 \\times IQR\n",
    "$$"
   ]
  },
  {
   "cell_type": "code",
   "execution_count": 67,
   "id": "5b75489f-708d-45be-93e2-9653d8c5dfbe",
   "metadata": {
    "jp-MarkdownHeadingCollapsed": true
   },
   "outputs": [
    {
     "name": "stdout",
     "output_type": "stream",
     "text": [
      "Outliers: [100]\n"
     ]
    }
   ],
   "source": [
    "Q1 = np.percentile(data, 25)\n",
    "Q3 = np.percentile(data, 75)\n",
    "IQR = Q3 - Q1\n",
    "\n",
    "lower_bound = Q1 - 1.5 * IQR\n",
    "upper_bound = Q3 + 1.5 * IQR\n",
    "\n",
    "outliers = [x for x in data if x < lower_bound or x > upper_bound]\n",
    "print(\"Outliers:\", outliers)"
   ]
  },
  {
   "cell_type": "markdown",
   "id": "872c5c12-ea6e-4b9d-8612-a923a8131b0e",
   "metadata": {},
   "source": [
    "## 📖 Summary Table\n",
    "\n",
    "| Measure      | What It Tells       | Python Tool                          |\n",
    "| :----------- | :------------------ | :----------------------------------- |\n",
    "| **Mean**     | Central average     | `sum()/len()` or `statistics.mean()` |\n",
    "| **Median**   | Middle value        | `statistics.median()`                |\n",
    "| **Mode**     | Most frequent value | `statistics.mode()`                  |\n",
    "| **IQR**      | Middle 50% spread   | `numpy.percentile()`                 |\n",
    "| **Skewness** | Asymmetry of data   | `scipy.stats.skew()`                 |\n"
   ]
  },
  {
   "cell_type": "markdown",
   "id": "ea8b3e48-dc45-4c2f-93b0-9c91b8bedcac",
   "metadata": {},
   "source": [
    "## 🔬 Part 5: Hands-on Data Exploration"
   ]
  },
  {
   "cell_type": "markdown",
   "id": "d9f7b85c-0f14-4761-914e-3fa1816941ea",
   "metadata": {},
   "source": [
    "### 5.1 Loading Your First Dataset\n",
    "\n",
    "Let's work with a sample sales dataset to practice our skills:"
   ]
  },
  {
   "cell_type": "markdown",
   "id": "753ef034-fbef-4ab2-b685-4b04755cc72a",
   "metadata": {},
   "source": [
    "#### Import Required Packages"
   ]
  },
  {
   "cell_type": "code",
   "execution_count": 35,
   "id": "80ee01af-94d1-4be4-9f48-26cdf8116774",
   "metadata": {},
   "outputs": [],
   "source": [
    "import os \n",
    "import pandas as pd\n",
    "import numpy as np\n",
    "import matplotlib.pyplot as plt\n",
    "import seaborn as sns"
   ]
  },
  {
   "cell_type": "markdown",
   "id": "dbdecf34-9c91-484f-adc2-ef86f5c54676",
   "metadata": {},
   "source": [
    "#### Load the Datasets"
   ]
  },
  {
   "cell_type": "code",
   "execution_count": 36,
   "id": "5f4e65cf-cb21-4606-a5e2-5a8a5d49534a",
   "metadata": {},
   "outputs": [],
   "source": [
    "cwd = os.getcwd()\n",
    "pwd = os.path.abspath(os.path.join(cwd, os.pardir))\n",
    "file_path = os.path.join(pwd, 'datasets', 'Business_data.csv')"
   ]
  },
  {
   "cell_type": "code",
   "execution_count": 37,
   "id": "40221efe-b1ce-45b1-8794-a3b7acf72405",
   "metadata": {},
   "outputs": [],
   "source": [
    "df = pd.read_csv(file_path)"
   ]
  },
  {
   "cell_type": "code",
   "execution_count": 38,
   "id": "5b4f93f1-0cec-4d4d-940a-8b51894765a5",
   "metadata": {},
   "outputs": [
    {
     "name": "stdout",
     "output_type": "stream",
     "text": [
      "\n",
      "📋 Sample Data:\n",
      "   customer_id product_category  purchase_amount  customer_age  region  \\\n",
      "0        10001         Clothing           150.42          70.0  Dammam   \n",
      "1        10002           Sports           375.48           8.0  Medina   \n",
      "2        10003             Home           213.35          39.0  Jeddah   \n",
      "3        10004            Books            26.86          39.0   Mecca   \n",
      "4        10005      Electronics            91.74           7.0  Medina   \n",
      "5        10006      Electronics            62.02          54.0  Jeddah   \n",
      "6        10007      Electronics            17.53          69.0  Jeddah   \n",
      "7        10008             Home             7.67          40.0  Medina   \n",
      "8        10009            Books           138.23          19.0  Dammam   \n",
      "9        10010             Home            44.24          48.0  Riyadh   \n",
      "\n",
      "   purchase_date  payment_method  customer_satisfaction  \n",
      "0  1/1/2023 0:00     Credit Card                      3  \n",
      "1  1/1/2023 1:00  Mobile Payment                      5  \n",
      "2  1/1/2023 2:00     Credit Card                      2  \n",
      "3  1/1/2023 3:00      Debit Card                      2  \n",
      "4  1/1/2023 4:00  Mobile Payment                      4  \n",
      "5  1/1/2023 5:00            Cash                      1  \n",
      "6  1/1/2023 6:00            Cash                      5  \n",
      "7  1/1/2023 7:00     Credit Card                      1  \n",
      "8  1/1/2023 8:00            Cash                      4  \n",
      "9  1/1/2023 9:00            Cash                      5  \n"
     ]
    }
   ],
   "source": [
    "# Display sample of the data\n",
    "print(\"\\n📋 Sample Data:\")\n",
    "print(df.head(10))"
   ]
  },
  {
   "cell_type": "markdown",
   "id": "ae9dd7e9-b3bf-4f54-94c9-ac808b72bfbd",
   "metadata": {},
   "source": [
    "### 5.2 Comprehensive Data Quality Assessment"
   ]
  },
  {
   "cell_type": "code",
   "execution_count": 39,
   "id": "f4d6f676-3c69-4039-ab62-6319584d7245",
   "metadata": {},
   "outputs": [
    {
     "name": "stdout",
     "output_type": "stream",
     "text": [
      "📋 BASIC INFORMATION:\n",
      "   • Dataset Shape: (100000, 8)\n",
      "   • Memory Usage: 25975.08 KB\n",
      "   • Total Cells: 800,000\n"
     ]
    }
   ],
   "source": [
    "# 1. Basic Information\n",
    "print(f\"📋 BASIC INFORMATION:\")\n",
    "print(f\"   • Dataset Shape: {df.shape}\")\n",
    "print(f\"   • Memory Usage: {df.memory_usage(deep=True).sum() / 1024:.2f} KB\")\n",
    "print(f\"   • Total Cells: {df.shape[0] * df.shape[1]:,}\")"
   ]
  },
  {
   "cell_type": "code",
   "execution_count": 40,
   "id": "7aded868-f074-4788-b415-5f8eeee9ecfb",
   "metadata": {},
   "outputs": [
    {
     "name": "stdout",
     "output_type": "stream",
     "text": [
      "\n",
      "📊 DATA TYPES:\n",
      "   • object: 4 columns\n",
      "   • int64: 2 columns\n",
      "   • float64: 2 columns\n"
     ]
    }
   ],
   "source": [
    "# 2. Data Types\n",
    "print(f\"\\n📊 DATA TYPES:\")\n",
    "dtype_counts = df.dtypes.value_counts()\n",
    "for dtype, count in dtype_counts.items():\n",
    "    print(f\"   • {dtype}: {count} columns\")"
   ]
  },
  {
   "cell_type": "code",
   "execution_count": 41,
   "id": "279f4df8-99dc-40ca-8e56-7b5c65e6e9a2",
   "metadata": {},
   "outputs": [
    {
     "name": "stdout",
     "output_type": "stream",
     "text": [
      "\n",
      "❌ MISSING VALUES ANALYSIS:\n",
      "   Columns with missing values:\n",
      "   • purchase_amount: 30 (0.0%)\n",
      "   • customer_age: 50 (0.1%)\n"
     ]
    }
   ],
   "source": [
    "# 3. Missing Values Analysis\n",
    "print(f\"\\n❌ MISSING VALUES ANALYSIS:\")\n",
    "missing_data = df.isnull().sum()\n",
    "missing_percentage = (missing_data / len(df)) * 100\n",
    "\n",
    "has_missing = missing_data[missing_data > 0]\n",
    "if len(has_missing) > 0:\n",
    "    print(\"   Columns with missing values:\")\n",
    "    for col, count in has_missing.items():\n",
    "        print(f\"   • {col}: {count} ({missing_percentage[col]:.1f}%)\")\n",
    "else:\n",
    "    print(\"   ✅ No missing values detected\")\n"
   ]
  },
  {
   "cell_type": "code",
   "execution_count": 42,
   "id": "7c73d392-77bb-40b1-8734-53c55be64187",
   "metadata": {},
   "outputs": [
    {
     "name": "stdout",
     "output_type": "stream",
     "text": [
      "\n",
      "🔄 DUPLICATES:\n",
      "   • Duplicate rows: 0 (0.0%)\n"
     ]
    }
   ],
   "source": [
    "# 4. Duplicates\n",
    "duplicates = df.duplicated().sum()\n",
    "print(f\"\\n🔄 DUPLICATES:\")\n",
    "print(f\"   • Duplicate rows: {duplicates} ({duplicates/len(df)*100:.1f}%)\")\n"
   ]
  },
  {
   "cell_type": "code",
   "execution_count": 71,
   "id": "15a7f876-907c-4dd3-9cac-9e0a36f86714",
   "metadata": {},
   "outputs": [
    {
     "name": "stdout",
     "output_type": "stream",
     "text": [
      "\n",
      "📈 OUTLIERS ANALYSIS:\n",
      "   • customer_id: 0 outliers (0.0%)\n",
      "   • purchase_amount: 3227 outliers (3.2%)\n",
      "   • customer_age: 691 outliers (0.7%)\n",
      "   • customer_satisfaction: 0 outliers (0.0%)\n"
     ]
    }
   ],
   "source": [
    "# 5. Outliers Analysis (for numerical columns)\n",
    "numerical_cols = df.select_dtypes(include=[np.number]).columns\n",
    "print(f\"\\n📈 OUTLIERS ANALYSIS:\")\n",
    "\n",
    "outliers_summary = {}\n",
    "for col in numerical_cols:\n",
    "    if df[col].notna().sum() > 0:  # Only analyze if there are non-null values\n",
    "        Q1 = df[col].quantile(0.25)\n",
    "        Q3 = df[col].quantile(0.75)\n",
    "        IQR = Q3 - Q1\n",
    "        lower_bound = Q1 - 1.5 * IQR\n",
    "        upper_bound = Q3 + 1.5 * IQR\n",
    "        outliers = ((df[col] < lower_bound) | (df[col] > upper_bound)).sum()\n",
    "        outliers_summary[col] = outliers\n",
    "        print(f\"   • {col}: {outliers} outliers ({outliers/df[col].notna().sum()*100:.1f}%)\")"
   ]
  },
  {
   "cell_type": "code",
   "execution_count": 43,
   "id": "29ea9e83-076c-4034-b515-b3b6728178ec",
   "metadata": {},
   "outputs": [
    {
     "name": "stdout",
     "output_type": "stream",
     "text": [
      "\n",
      "=== BASIC STATISTICS ===\n",
      "         customer_id  purchase_amount  customer_age  customer_satisfaction\n",
      "count  100000.000000     99970.000000  99950.000000          100000.000000\n",
      "mean    60000.500000       100.842831     39.937579               2.995740\n",
      "std     28867.657797        85.305769     14.997718               1.413507\n",
      "min     10001.000000         0.100000    -25.000000               1.000000\n",
      "25%     35000.750000        48.300000     30.000000               2.000000\n",
      "50%     60000.500000        84.180000     40.000000               3.000000\n",
      "75%     85000.250000       134.677500     50.000000               4.000000\n",
      "max    110000.000000      4800.120102    109.000000               5.000000\n"
     ]
    }
   ],
   "source": [
    "print(\"\\n=== BASIC STATISTICS ===\")\n",
    "print(df.describe())"
   ]
  },
  {
   "cell_type": "code",
   "execution_count": 74,
   "id": "b9de3cad-e491-49dc-aac5-75309174e890",
   "metadata": {},
   "outputs": [
    {
     "name": "stdout",
     "output_type": "stream",
     "text": [
      "📊 DETAILED STATISTICAL ANALYSIS:\n",
      "\n",
      "📈 NUMERICAL COLUMNS SUMMARY:\n",
      "       customer_id  purchase_amount  customer_age  customer_satisfaction\n",
      "count    100000.00         99970.00      99950.00              100000.00\n",
      "mean      60000.50           100.84         39.94                   3.00\n",
      "std       28867.66            85.31         15.00                   1.41\n",
      "min       10001.00             0.10        -25.00                   1.00\n",
      "25%       35000.75            48.30         30.00                   2.00\n",
      "50%       60000.50            84.18         40.00                   3.00\n",
      "75%       85000.25           134.68         50.00                   4.00\n",
      "max      110000.00          4800.12        109.00                   5.00\n"
     ]
    }
   ],
   "source": [
    "# Detailed Statistical Analysis\n",
    "print(\"📊 DETAILED STATISTICAL ANALYSIS:\\n\")\n",
    "\n",
    "# Numerical columns analysis\n",
    "numerical_cols = df.select_dtypes(include=[np.number]).columns\n",
    "print(\"📈 NUMERICAL COLUMNS SUMMARY:\")\n",
    "print(df[numerical_cols].describe().round(2))"
   ]
  },
  {
   "cell_type": "code",
   "execution_count": 75,
   "id": "3baa33a5-162a-4890-8027-96d24823f956",
   "metadata": {},
   "outputs": [
    {
     "name": "stdout",
     "output_type": "stream",
     "text": [
      "\n",
      "📈 CATEGORICAL COLUMNS ANALYSIS:\n",
      "   • product_category: 5 unique values, most common: 'Electronics'\n",
      "     Distribution: {'Electronics': 30055, 'Clothing': 24972, 'Home': 20063, 'Books': 15084, 'Sports': 9826}\n",
      "   • region: 5 unique values, most common: 'Riyadh'\n",
      "     Distribution: {'Riyadh': 39800, 'Jeddah': 25239, 'Dammam': 14950, 'Mecca': 10009, 'Medina': 10002}\n",
      "   • purchase_date: 100000 unique values, most common: '1/1/2023 0:00'\n",
      "   • payment_method: 4 unique values, most common: 'Credit Card'\n",
      "     Distribution: {'Credit Card': 40231, 'Debit Card': 29919, 'Cash': 14931, 'Mobile Payment': 14919}\n"
     ]
    }
   ],
   "source": [
    "# Categorical columns analysis\n",
    "categorical_cols = df.select_dtypes(include=['object']).columns\n",
    "print(f\"\\n📈 CATEGORICAL COLUMNS ANALYSIS:\")\n",
    "\n",
    "for col in categorical_cols:\n",
    "    unique_count = df[col].nunique()\n",
    "    most_common = df[col].mode().iloc[0] if len(df[col].mode()) > 0 else 'N/A'\n",
    "    print(f\"   • {col}: {unique_count} unique values, most common: '{most_common}'\")\n",
    "    \n",
    "    # Show distribution for categorical variables\n",
    "    if unique_count <= 10:  # Only show distribution for variables with <= 10 categories\n",
    "        value_counts = df[col].value_counts()\n",
    "        print(f\"     Distribution: {dict(value_counts.head())}\")\n",
    "\n",
    "# Date columns analysis\n",
    "date_cols = df.select_dtypes(include=['datetime64']).columns\n",
    "if len(date_cols) > 0:\n",
    "    print(f\"\\n📅 DATE COLUMNS ANALYSIS:\")\n",
    "    for col in date_cols:\n",
    "        print(f\"   • {col}: from {df[col].min()} to {df[col].max()}\")\n",
    "        print(f\"     Span: {(df[col].max() - df[col].min()).days} days\")"
   ]
  },
  {
   "cell_type": "markdown",
   "id": "1ba5e160-6077-4afc-a8d3-690953300626",
   "metadata": {},
   "source": [
    "### 5.3 Advanced Data Exploration Functions"
   ]
  },
  {
   "cell_type": "code",
   "execution_count": 79,
   "id": "e596f7b5-dde4-4f55-ace8-97b1e39db03a",
   "metadata": {},
   "outputs": [],
   "source": [
    "# Advanced Data Exploration Functions\n",
    "def explore_numerical_column(df, column):\n",
    "    \"\"\"\n",
    "    Detailed exploration of numerical column\n",
    "    \"\"\"\n",
    "    print(f\"📊 EXPLORING NUMERICAL COLUMN: {column}\")\n",
    "    print(\"-\" * 50)\n",
    "    \n",
    "    col_data = df[column].dropna()\n",
    "    \n",
    "    if len(col_data) == 0:\n",
    "        print(\"   ⚠️ No data available for analysis\")\n",
    "        return\n",
    "    \n",
    "    # Basic statistics\n",
    "    print(f\"   • Count: {len(col_data):,}\")\n",
    "    print(f\"   • Mean: {col_data.mean():.2f}\")\n",
    "    print(f\"   • Median: {col_data.median():.2f}\")\n",
    "    print(f\"   • Std Dev: {col_data.std():.2f}\")\n",
    "    print(f\"   • Min: {col_data.min():.2f}\")\n",
    "    print(f\"   • Max: {col_data.max():.2f}\")\n",
    "    \n",
    "    # Percentiles\n",
    "    percentiles = [5, 10, 25, 50, 75, 90, 95]\n",
    "    print(f\"   • Percentiles:\")\n",
    "    for p in percentiles:\n",
    "        print(f\"     {p}th: {col_data.quantile(p/100):.2f}\")\n",
    "    \n",
    "    # Distribution characteristics\n",
    "    skewness = col_data.skew()\n",
    "    kurtosis = col_data.kurtosis()\n",
    "    print(f\"   • Skewness: {skewness:.2f} ({'Right-skewed' if skewness > 0 else 'Left-skewed' if skewness < 0 else 'Symmetric'})\")\n",
    "    print(f\"   • Kurtosis: {kurtosis:.2f} ({'Heavy-tailed' if kurtosis > 0 else 'Light-tailed'})\")"
   ]
  },
  {
   "cell_type": "code",
   "execution_count": 80,
   "id": "5ebe3134-2f96-4ce6-b394-16db2225f19f",
   "metadata": {},
   "outputs": [],
   "source": [
    "def explore_categorical_column(df, column):\n",
    "    \"\"\"\n",
    "    Detailed exploration of categorical column\n",
    "    \"\"\"\n",
    "    print(f\"📈 EXPLORING CATEGORICAL COLUMN: {column}\")\n",
    "    print(\"-\" * 50)\n",
    "    \n",
    "    col_data = df[column].dropna()\n",
    "    \n",
    "    if len(col_data) == 0:\n",
    "        print(\"   ⚠️ No data available for analysis\")\n",
    "        return\n",
    "    \n",
    "    # Value counts and proportions\n",
    "    value_counts = col_data.value_counts()\n",
    "    proportions = col_data.value_counts(normalize=True)\n",
    "    \n",
    "    print(f\"   • Unique values: {col_data.nunique()}\")\n",
    "    print(f\"   • Most common: '{value_counts.index[0]}' ({proportions.iloc[0]:.1%})\")\n",
    "    print(f\"   • Least common: '{value_counts.index[-1]}' ({proportions.iloc[-1]:.1%})\")\n",
    "    \n",
    "    print(f\"   • Distribution:\")\n",
    "    for value, count in value_counts.items():\n",
    "        percentage = proportions[value]\n",
    "        print(f\"     {value}: {count:,} ({percentage:.1%})\")"
   ]
  },
  {
   "cell_type": "code",
   "execution_count": 81,
   "id": "1b8fb5ce-db7e-4a18-af8f-08838a7280c1",
   "metadata": {},
   "outputs": [
    {
     "name": "stdout",
     "output_type": "stream",
     "text": [
      "🔍 ADVANCED DATA EXPLORATION EXAMPLES:\n",
      "\n",
      "📊 EXPLORING NUMERICAL COLUMN: purchase_amount\n",
      "--------------------------------------------------\n",
      "   • Count: 99,970\n",
      "   • Mean: 100.84\n",
      "   • Median: 84.18\n",
      "   • Std Dev: 85.31\n",
      "   • Min: 0.10\n",
      "   • Max: 4800.12\n",
      "   • Percentiles:\n",
      "     5th: 17.92\n",
      "     10th: 26.67\n",
      "     25th: 48.30\n",
      "     50th: 84.18\n",
      "     75th: 134.68\n",
      "     90th: 195.03\n",
      "     95th: 237.73\n",
      "   • Skewness: 15.36 (Right-skewed)\n",
      "   • Kurtosis: 723.65 (Heavy-tailed)\n",
      "\n",
      "============================================================\n",
      "\n",
      "📈 EXPLORING CATEGORICAL COLUMN: region\n",
      "--------------------------------------------------\n",
      "   • Unique values: 5\n",
      "   • Most common: 'Riyadh' (39.8%)\n",
      "   • Least common: 'Medina' (10.0%)\n",
      "   • Distribution:\n",
      "     Riyadh: 39,800 (39.8%)\n",
      "     Jeddah: 25,239 (25.2%)\n",
      "     Dammam: 14,950 (14.9%)\n",
      "     Mecca: 10,009 (10.0%)\n",
      "     Medina: 10,002 (10.0%)\n",
      "\n",
      "============================================================\n",
      "\n",
      "📈 EXPLORING CATEGORICAL COLUMN: product_category\n",
      "--------------------------------------------------\n",
      "   • Unique values: 5\n",
      "   • Most common: 'Electronics' (30.1%)\n",
      "   • Least common: 'Sports' (9.8%)\n",
      "   • Distribution:\n",
      "     Electronics: 30,055 (30.1%)\n",
      "     Clothing: 24,972 (25.0%)\n",
      "     Home: 20,063 (20.1%)\n",
      "     Books: 15,084 (15.1%)\n",
      "     Sports: 9,826 (9.8%)\n"
     ]
    }
   ],
   "source": [
    "# Demonstrate exploration functions\n",
    "print(\"🔍 ADVANCED DATA EXPLORATION EXAMPLES:\\n\")\n",
    "\n",
    "explore_numerical_column(df, 'purchase_amount')\n",
    "print(\"\\n\" + \"=\"*60 + \"\\n\")\n",
    "explore_categorical_column(df, 'region')\n",
    "print(\"\\n\" + \"=\"*60 + \"\\n\")\n",
    "explore_categorical_column(df, 'product_category')"
   ]
  },
  {
   "cell_type": "markdown",
   "id": "84af95b8-951f-4afd-aa4c-1e4590aa8d33",
   "metadata": {},
   "source": [
    "### 5.4 Basic Data Visualization\n",
    "\n",
    "Let's create some basic visualizations to understand our data better."
   ]
  },
  {
   "cell_type": "code",
   "execution_count": 87,
   "id": "f2918033-7f2c-45a5-b658-a813ed03d801",
   "metadata": {},
   "outputs": [
    {
     "name": "stdout",
     "output_type": "stream",
     "text": [
      "📊 CREATING BASIC VISUALIZATIONS:\n",
      "\n"
     ]
    },
    {
     "data": {
      "image/png": "[encoded data removed]",
      "text/plain": [
       "<Figure size 1500x1200 with 4 Axes>"
      ]
     },
     "metadata": {},
     "output_type": "display_data"
    },
    {
     "name": "stdout",
     "output_type": "stream",
     "text": [
      "   ✅ Distribution plots created successfully\n"
     ]
    }
   ],
   "source": [
    "# Basic Data Visualizations\n",
    "print(\"📊 CREATING BASIC VISUALIZATIONS:\\n\")\n",
    "\n",
    "# Set up plotting parameters\n",
    "plt.style.use('default')\n",
    "plt.rcParams['figure.figsize'] = (12, 8)\n",
    "plt.rcParams['font.size'] = 10\n",
    "\n",
    "# Create subplot figure\n",
    "fig, axes = plt.subplots(2, 2, figsize=(15, 12))\n",
    "fig.suptitle('Business Data Analysis - Distribution Plots', fontsize=16, fontweight='bold')\n",
    "# 1. Histogram of purchase amounts\n",
    "purchase_data = df['purchase_amount'].dropna()\n",
    "axes[0, 0].hist(purchase_data, bins=30, alpha=0.7, color='skyblue', edgecolor='black')\n",
    "axes[0, 0].set_title('Distribution of Purchase Amounts')\n",
    "axes[0, 0].set_xlabel('Purchase Amount (SAR)')\n",
    "axes[0, 0].set_ylabel('Frequency')\n",
    "axes[0, 0].grid(True, alpha=0.3)\n",
    "\n",
    "# 2. Box plot of purchase amounts by category\n",
    "categories = df['product_category'].unique()\n",
    "category_data = [df[df['product_category'] == cat]['purchase_amount'].dropna() \n",
    "                 for cat in categories]\n",
    "box_plot = axes[0, 1].boxplot(category_data, labels=categories, patch_artist=True)\n",
    "axes[0, 1].set_title('Purchase Amount by Product Category')\n",
    "axes[0, 1].set_xlabel('Product Category')\n",
    "axes[0, 1].set_ylabel('Purchase Amount (SAR)')\n",
    "axes[0, 1].tick_params(axis='x', rotation=45)\n",
    "axes[0, 1].grid(True, alpha=0.3)\n",
    "\n",
    "# Color the box plots\n",
    "colors = ['lightblue', 'lightgreen', 'lightcoral', 'lightyellow', 'lightpink']\n",
    "for patch, color in zip(box_plot['boxes'], colors[:len(box_plot['boxes'])]):\n",
    "    patch.set_facecolor(color)\n",
    "\n",
    "# 3. Bar chart of region distribution\n",
    "region_counts = df['region'].value_counts()\n",
    "bars = axes[1, 0].bar(region_counts.index, region_counts.values, color='lightcoral', alpha=0.8)\n",
    "axes[1, 0].set_title('Customer Distribution by Region')\n",
    "axes[1, 0].set_xlabel('Region')\n",
    "axes[1, 0].set_ylabel('Number of Customers')\n",
    "axes[1, 0].tick_params(axis='x', rotation=45)\n",
    "axes[1, 0].grid(True, alpha=0.3)\n",
    "\n",
    "# Add value labels on bars\n",
    "for bar in bars:\n",
    "    height = bar.get_height()\n",
    "    axes[1, 0].text(bar.get_x() + bar.get_width()/2., height + 5,\n",
    "                    f'{int(height)}', ha='center', va='bottom')\n",
    "\n",
    "# 4. Age distribution\n",
    "age_data = df['customer_age'].dropna()\n",
    "axes[1, 1].hist(age_data, bins=25, alpha=0.7, color='lightgreen', edgecolor='black')\n",
    "axes[1, 1].set_title('Customer Age Distribution')\n",
    "axes[1, 1].set_xlabel('Age')\n",
    "axes[1, 1].set_ylabel('Frequency')\n",
    "axes[1, 1].grid(True, alpha=0.3)\n",
    "\n",
    "plt.tight_layout()\n",
    "plt.show()\n",
    "\n",
    "print(\"   ✅ Distribution plots created successfully\")"
   ]
  },
  {
   "cell_type": "code",
   "execution_count": 88,
   "id": "2f45eb80-4a1f-4b37-b37f-d33559b2a4e5",
   "metadata": {},
   "outputs": [
    {
     "name": "stdout",
     "output_type": "stream",
     "text": [
      "📈 CORRELATION ANALYSIS:\n",
      "\n"
     ]
    },
    {
     "data": {
      "image/png": "[encoded data removed]",
      "text/plain": [
       "<Figure size 1000x800 with 2 Axes>"
      ]
     },
     "metadata": {},
     "output_type": "display_data"
    },
    {
     "name": "stdout",
     "output_type": "stream",
     "text": [
      "   ✅ Correlation heatmap created successfully\n",
      "\n",
      "🔍 CORRELATION INSIGHTS:\n",
      "   • No strong correlations detected (|r| > 0.3)\n"
     ]
    }
   ],
   "source": [
    "# Correlation Analysis\n",
    "print(\"📈 CORRELATION ANALYSIS:\\n\")\n",
    "\n",
    "# Create correlation matrix for numerical columns\n",
    "numerical_data = df.select_dtypes(include=[np.number])\n",
    "correlation_matrix = numerical_data.corr()\n",
    "\n",
    "plt.figure(figsize=(10, 8))\n",
    "mask = np.triu(np.ones_like(correlation_matrix, dtype=bool))  # Mask upper triangle\n",
    "sns.heatmap(correlation_matrix, mask=mask, annot=True, cmap='coolwarm', center=0, \n",
    "            square=True, fmt='.2f', cbar_kws={'label': 'Correlation Coefficient'})\n",
    "plt.title('Correlation Matrix - Numerical Variables', fontsize=14, fontweight='bold')\n",
    "plt.tight_layout()\n",
    "plt.show()\n",
    "\n",
    "print(\"   ✅ Correlation heatmap created successfully\")\n",
    "\n",
    "# Interpret correlations\n",
    "print(\"\\n🔍 CORRELATION INSIGHTS:\")\n",
    "high_correlations = []\n",
    "for i in range(len(correlation_matrix.columns)):\n",
    "    for j in range(i+1, len(correlation_matrix.columns)):\n",
    "        corr_value = correlation_matrix.iloc[i, j]\n",
    "        if abs(corr_value) > 0.3:  # Moderate to strong correlation\n",
    "            col1 = correlation_matrix.columns[i]\n",
    "            col2 = correlation_matrix.columns[j]\n",
    "            high_correlations.append((col1, col2, corr_value))\n",
    "\n",
    "if high_correlations:\n",
    "    print(\"   Moderate to strong correlations found:\")\n",
    "    for col1, col2, corr in high_correlations:\n",
    "        print(f\"   • {col1} ↔ {col2}: {corr:.3f}\")\n",
    "else:\n",
    "    print(\"   • No strong correlations detected (|r| > 0.3)\")"
   ]
  },
  {
   "cell_type": "markdown",
   "id": "229e951a-0e7e-46ad-9b1b-6b9dcef2d793",
   "metadata": {},
   "source": [
    "## 📝 Part 6: Practical Exercises and Deliverables\n",
    "\n",
    "### Exercise 1: Environment Setup Verification\n",
    "\n",
    "1. Create a new Jupyter notebook\n",
    "2. Import all required libraries (pandas, numpy, matplotlib, seaborn)\n",
    "3. Create a simple DataFrame with sample data\n",
    "4. Display basic information about your DataFrame\n",
    "\n",
    "```python\n",
    "# Your code here\n",
    "import pandas as pd\n",
    "import numpy as np\n",
    "import matplotlib.pyplot as plt\n",
    "import seaborn as sns\n",
    "\n",
    "# Create your own sample dataset\n",
    "# Hint: Use at least 3 columns with different data types\n",
    "```"
   ]
  },
  {
   "cell_type": "markdown",
   "id": "5d7ec359-75aa-4154-854d-e759cc49653e",
   "metadata": {},
   "source": [
    "### Exercise 2: Data Quality Analysis\n",
    "\n",
    "Using the provided sample dataset:\n",
    "\n",
    "1. Calculate the percentage of missing values for each column\n",
    "2. Identify the data types of each column\n",
    "3. Find any duplicate rows\n",
    "4. Create a simple visualization showing the distribution of one numerical column\n",
    "\n",
    "```python\n",
    "# Your analysis code here\n",
    "```"
   ]
  },
  {
   "cell_type": "markdown",
   "id": "bd8e07ff-a0be-445f-bc7c-6b8ffdc40d0f",
   "metadata": {},
   "source": [
    "### Exercise 3: Ethics Reflection\n",
    "\n",
    "Write a brief reflection (200-300 words) addressing the following questions:\n",
    "\n",
    "1. What ethical considerations should be taken into account when analyzing customer purchase data?\n",
    "2. How would you ensure privacy protection while still extracting valuable business insights?\n",
    "3. What potential biases might exist in retail sales data, and how could they impact analysis results?"
   ]
  },
  {
   "cell_type": "markdown",
   "id": "6385ea97-bc0f-4ff3-8a63-56c9128b191e",
   "metadata": {},
   "source": [
    "*Write your reflection in the markdown cell below:*\n",
    "\n",
    "---"
   ]
  },
  {
   "cell_type": "markdown",
   "id": "c6e7cdd3-7fb2-41c5-bbb2-10acc1852202",
   "metadata": {},
   "source": [
    "### 📋 Session 1 Deliverables Checklist\n",
    "\n",
    "#### ✅ Python Environment Setup Complete\n",
    "- [ ] Python 3.8+ installed and verified\n",
    "- [ ] Jupyter Notebook functional\n",
    "- [ ] All required libraries imported successfully\n",
    "- [ ] Sample notebook with basic operations completed\n",
    "\n",
    "#### ✅ Data Quality Assessment\n",
    "- [ ] Missing values analysis completed\n",
    "- [ ] Data types identified and documented\n",
    "- [ ] Outliers detection function implemented\n",
    "- [ ] Quality assessment report generated\n",
    "\n",
    "#### ✅ Basic Data Exploration\n",
    "- [ ] Descriptive statistics calculated\n",
    "- [ ] Distribution analysis performed\n",
    "- [ ] Initial visualizations created\n",
    "- [ ] Key insights documented\n",
    "\n",
    "#### ✅ Data Ethics Reflection\n",
    "- [ ] GDPR compliance considerations addressed\n",
    "- [ ] Bias identification and mitigation strategies\n",
    "- [ ] Privacy protection strategies outlined\n",
    "- [ ] Ethical handling recommendations provided\n"
   ]
  },
  {
   "cell_type": "markdown",
   "id": "6fd76c80-2747-4457-ac3b-6f516ccdc74c",
   "metadata": {},
   "source": [
    "## 📚 Additional Resources and Learning Materials\n",
    "\n",
    "<!-- CELL BREAK -->\n",
    "\n",
    "### 🎓 Essential Reading\n",
    "\n",
    "#### 📖 Required Textbooks\n",
    "- **Python for Data Analysis** by Wes McKinney (Chapters 1-4)\n",
    "- **The Ethics of Data Science** by DJ Patil (Introduction)\n",
    "- **Practical Statistics for Data Scientists** by Peter Bruce (Chapters 1-2)\n",
    "\n",
    "#### 📄 Official Documentation\n",
    "- [Pandas Documentation](https://pandas.pydata.org/docs/) - Comprehensive guide\n",
    "- [NumPy User Guide](https://numpy.org/doc/stable/user/) - Numerical computing"
   ]
  },
  {
   "cell_type": "markdown",
   "id": "961d4a6a-c88b-4a6f-91f8-b74bd1eeaa81",
   "metadata": {},
   "source": [
    "### 🔮 Next Session Preview\n",
    "\n",
    "#### 📅 Session 2: Data Preparation, Cleaning and Wrangling\n",
    "\n",
    "**What you'll learn:**\n",
    "- Advanced data profiling and quality assessment techniques\n",
    "- Handling missing data: detection, analysis, and treatment strategies\n",
    "- Outlier detection and treatment methods (Z-score, IQR, winsorization)\n",
    "- Data transformation: type conversions, standardizing formats\n",
    "- Reshaping and merging datasets (pivot, join operations)\n",
    "- Feature engineering: creating derived variables, binning, categorization\n",
    "- Text preprocessing fundamentals for unstructured data"
   ]
  },
  {
   "cell_type": "markdown",
   "id": "dd6740c1-c036-4e1e-a25b-e1bb1593b520",
   "metadata": {},
   "source": [
    "**Hands-on activities:**\n",
    "- Clean real-world messy datasets\n",
    "- Implement multiple missing data treatment strategies\n",
    "- Create automated data cleaning pipelines\n",
    "- Document data transformation decisions\n",
    "\n",
    "**Prepare for next session:**\n",
    "- Review pandas documentation for data cleaning methods\n",
    "- Think about data quality issues you've encountered\n",
    "- Practice with the sample datasets from today"
   ]
  },
  {
   "cell_type": "markdown",
   "id": "47c3f765-4ac5-4248-9930-770e6f53b22a",
   "metadata": {},
   "source": [
    "## 🤝 Getting Help and Course Support\n",
    "\n",
    "<!-- CELL BREAK -->\n",
    "\n",
    "### 📞 Course Support Channels\n",
    "\n",
    "#### 🏢 Big Academy Saudi Arabia\n",
    "- **📍 Location:** Riyadh, Saudi Arabia\n",
    "- **☎️ Phone:** +966 566 049 140\n",
    "- **🌐 Website:** [bigacademy.edu.sa](https://bigacademy.edu.sa/)\n",
    "- **📧 General Email:** som@bigacademy.com\n",
    "- **📧 Course Email:** [To be provided by instructor]\n",
    "\n",
    "#### 📱 Follow Us on Social Media\n",
    "- **Instagram:** [@bigacademy.ksa](https://www.instagram.com/bigacademy.ksa/)\n",
    "- **LinkedIn:** [Big Academy KSA](https://www.linkedin.com/school/big-academyksa/)\n",
    "- **Facebook:** [Big Academy Saudi Arabia](https://m.facebook.com/61559705850355/)\n",
    "\n",
    "## 🎉 Session 1 Complete!\n",
    "\n",
    "### 🌟 Congratulations!\n",
    "\n",
    "You have successfully completed **Session 1: Foundations of Data Analysis, Python Fundamentals, and Data Ethics**. You've taken the first important step in your data analytics journey!\n",
    "\n",
    "### 🎯 What You've Accomplished Today:\n",
    "- ✅ **Understood the data revolution** and its impact on modern business\n",
    "- ✅ **Set up your Python environment** for data analysis\n",
    "- ✅ **Learned essential data structures** and operations\n",
    "- ✅ **Explored data types and quality dimensions**\n",
    "- ✅ **Applied data ethics principles** including GDPR compliance\n",
    "- ✅ **Performed hands-on data exploration** with real datasets\n",
    "\n",
    "### 🚀 Next Steps:\n",
    "1. **Complete all exercises** and submit your deliverables\n",
    "2. **Practice with additional datasets** to reinforce your learning\n",
    "3. **Prepare for Session 2** using the provided checklist\n",
    "4. **Join the course community** and connect with fellow learners\n",
    "\n",
    "### 💪 Keep Learning!\n",
    "> *\"Data is the new oil, but like oil, it needs to be refined to be valuable.\"*\n",
    "\n",
    "> *\"The journey of a thousand insights begins with a single dataset exploration.\"*\n",
    "\n",
    "Remember: **Practice makes perfect!** The more you work with data, the more comfortable you'll become. Don't be afraid to experiment, make mistakes, and ask questions.\n",
    "\n",
    "### 🌟 Ready for the Next Challenge?\n",
    "**Session 2: Data Preparation, Cleaning and Wrangling** awaits you!\n",
    "\n",
    "---"
   ]
  },
  {
   "cell_type": "markdown",
   "id": "c67d8845-08a3-4553-8941-8ba20649d379",
   "metadata": {},
   "source": [
    "<div align=\"center\">\n",
    "\n",
    "**🎓 Big Academy Saudi Arabia - Where Education Knows No Limits**\n",
    "\n",
    "*Empowering the next generation of data professionals in Saudi Arabia* 🇸🇦\n",
    "\n",
    "![Big Academy](https://img.shields.io/badge/Made%20with%20❤️%20in-Saudi%20Arabia-green?style=for-the-badge)\n",
    "\n",
    "</div>"
   ]
  }
 ],
 "metadata": {
  "kernelspec": {
   "display_name": "Python 3 (ipykernel)",
   "language": "python",
   "name": "python3"
  },
  "language_info": {
   "codemirror_mode": {
    "name": "ipython",
    "version": 3
   },
   "file_extension": ".py",
   "mimetype": "text/x-python",
   "name": "python",
   "nbconvert_exporter": "python",
   "pygments_lexer": "ipython3",
   "version": "3.12.7"
  }
 },
 "nbformat": 4,
 "nbformat_minor": 5
}
